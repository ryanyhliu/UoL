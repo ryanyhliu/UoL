{
 "cells": [
  {
   "cell_type": "code",
   "execution_count": 2,
   "metadata": {},
   "outputs": [],
   "source": [
    "import random\n",
    "import numpy as np\n",
    "import torch\n",
    "import torch.optim as optim\n",
    "import torch.nn.functional as F\n",
    "import gymnasium as gym\n",
    "from collections import deque\n",
    "from torch.optim.lr_scheduler import StepLR\n",
    "from torch import nn\n",
    "\n",
    "env = gym.make(\"LunarLander-v2\")\n"
   ]
  },
  {
   "cell_type": "code",
   "execution_count": 3,
   "metadata": {},
   "outputs": [],
   "source": [
    "class DQN(nn.Module):\n",
    "    def __init__(self, state_size, action_size):\n",
    "        super(DQN, self).__init__()\n",
    "        self.fc1 = nn.Linear(state_size, 64)\n",
    "        self.fc2 = nn.Linear(64, 64)\n",
    "        self.fc3 = nn.Linear(64, 64)\n",
    "        self.fc4 = nn.Linear(64, action_size)\n",
    "\n",
    "    def forward(self, x):\n",
    "        x = F.relu(self.fc1(x))\n",
    "        x = F.relu(self.fc2(x))\n",
    "        x = F.relu(self.fc3(x))\n",
    "        return self.fc4(x)\n"
   ]
  },
  {
   "cell_type": "code",
   "execution_count": 4,
   "metadata": {},
   "outputs": [
    {
     "name": "stderr",
     "output_type": "stream",
     "text": [
      "C:\\Users\\isrya\\AppData\\Local\\Temp\\ipykernel_67636\\2153006121.py:27: UserWarning: Creating a tensor from a list of numpy.ndarrays is extremely slow. Please consider converting the list to a single numpy.ndarray with numpy.array() before converting to a tensor. (Triggered internally at ..\\torch\\csrc\\utils\\tensor_new.cpp:278.)\n",
      "  state = torch.tensor([observation], dtype=torch.float32)\n"
     ]
    },
    {
     "name": "stdout",
     "output_type": "stream",
     "text": [
      "Episode finished, reward:  -227.00359213849848\n",
      "Time steps: 54, terminated: True, truncated: False\n",
      "Episode finished, reward:  -327.35576750801283\n",
      "Time steps: 82, terminated: True, truncated: False\n",
      "Episode finished, reward:  -238.80098068482826\n",
      "Time steps: 60, terminated: True, truncated: False\n",
      "Episode finished, reward:  -192.32266581855632\n",
      "Time steps: 89, terminated: True, truncated: False\n",
      "Episode finished, reward:  -248.00705469202424\n",
      "Time steps: 52, terminated: True, truncated: False\n",
      "Episode finished, reward:  -140.83793215151536\n",
      "Time steps: 71, terminated: True, truncated: False\n",
      "Episode finished, reward:  49.4070423027141\n",
      "Time steps: 74, terminated: True, truncated: False\n",
      "Episode finished, reward:  -191.0632580249777\n",
      "Time steps: 54, terminated: True, truncated: False\n",
      "Episode finished, reward:  -161.36057032033364\n",
      "Time steps: 76, terminated: True, truncated: False\n",
      "Episode finished, reward:  -304.41903080114946\n",
      "Time steps: 94, terminated: True, truncated: False\n",
      "Episode finished, reward:  -188.76202528222473\n",
      "Time steps: 51, terminated: True, truncated: False\n",
      "Episode finished, reward:  -158.04366964182248\n",
      "Time steps: 63, terminated: True, truncated: False\n",
      "Episode finished, reward:  -122.25653044996477\n",
      "Time steps: 72, terminated: True, truncated: False\n",
      "Episode finished, reward:  -246.2276910330844\n",
      "Time steps: 60, terminated: True, truncated: False\n"
     ]
    }
   ],
   "source": [
    "import gymnasium as gym\n",
    "import numpy as np\n",
    "\n",
    "import torch# 确保从包含DQN类定义的文件中导入\n",
    "import os\n",
    "\n",
    "# 假设状态空间和动作空间的维度已知\n",
    "state_size = 8  # 根据你的环境设置\n",
    "action_size = 4  # 根据你的环境设置\n",
    "\n",
    "current_dir = os.getcwd()\n",
    "model_dir = os.path.join(current_dir, \"models\")\n",
    "model_path = os.path.join(model_dir, \"model_0.pth\")\n",
    "\n",
    "model = DQN(state_size, action_size)\n",
    "model.load_state_dict(torch.load(model_path))\n",
    "model.eval()  # 将模型设置为评估模式\n",
    "\n",
    "env = gym.make(\"LunarLander-v2\", render_mode=\"human\")\n",
    "observation, info = env.reset()\n",
    "\n",
    "cumulative_reward = 0  # 初始化累积奖励为0\n",
    "last_round_time = 0  # 记录上一轮的时间步数\n",
    "\n",
    "for time in range(1000):\n",
    "    # 将观测转换为适合模型的格式\n",
    "    state = torch.tensor([observation], dtype=torch.float32)\n",
    "    \n",
    "    with torch.no_grad():  # 禁止torch追踪此处的梯度计算，因为我们在推理而不是训练\n",
    "        action = model(state).max(1)[1].item()  # 获取最大Q值对应的动作\n",
    "\n",
    "    observation, reward, terminated, truncated, info = env.step(action)\n",
    "    cumulative_reward += reward # 累积奖励\n",
    "    \n",
    "    if terminated or truncated:\n",
    "        print(\"Episode finished, reward: \", cumulative_reward)\n",
    "        print(f\"Time steps: {time - last_round_time}, terminated: {terminated}, truncated: {truncated}\")\n",
    "        last_round_time = time\n",
    "        observation, info = env.reset()\n",
    "        cumulative_reward = 0  # 重置累积奖励为0\n",
    "\n",
    "env.close()"
   ]
  }
 ],
 "metadata": {
  "kernelspec": {
   "display_name": "LUNARLANDER",
   "language": "python",
   "name": "python3"
  },
  "language_info": {
   "codemirror_mode": {
    "name": "ipython",
    "version": 3
   },
   "file_extension": ".py",
   "mimetype": "text/x-python",
   "name": "python",
   "nbconvert_exporter": "python",
   "pygments_lexer": "ipython3",
   "version": "3.12.2"
  }
 },
 "nbformat": 4,
 "nbformat_minor": 2
}
