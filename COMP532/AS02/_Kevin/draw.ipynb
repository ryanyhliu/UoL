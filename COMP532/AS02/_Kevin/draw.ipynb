{
 "cells": [
  {
   "cell_type": "code",
   "execution_count": 59,
   "metadata": {},
   "outputs": [
    {
     "ename": "TypeError",
     "evalue": "draw_loss() missing 3 required positional arguments: 'c1', 'c2', and 'y_tick'",
     "output_type": "error",
     "traceback": [
      "\u001b[0;31m---------------------------------------------------------------------------\u001b[0m",
      "\u001b[0;31mTypeError\u001b[0m                                 Traceback (most recent call last)",
      "Cell \u001b[0;32mIn[59], line 44\u001b[0m\n\u001b[1;32m     41\u001b[0m     plt\u001b[38;5;241m.\u001b[39mshow()\n\u001b[1;32m     43\u001b[0m \u001b[38;5;66;03m# draw_reward()\u001b[39;00m\n\u001b[0;32m---> 44\u001b[0m \u001b[43mdraw_loss\u001b[49m\u001b[43m(\u001b[49m\u001b[43m)\u001b[49m\n",
      "\u001b[0;31mTypeError\u001b[0m: draw_loss() missing 3 required positional arguments: 'c1', 'c2', and 'y_tick'"
     ]
    },
    {
     "data": {
      "text/plain": [
       "<Figure size 1600x1200 with 0 Axes>"
      ]
     },
     "metadata": {},
     "output_type": "display_data"
    }
   ],
   "source": [
    "# draw the rewards data\n",
    "import pandas as pd\n",
    "import matplotlib.pyplot as plt\n",
    "import numpy as np\n",
    "\n",
    "data_file = 'rewards.csv'\n",
    "rewards_data = pd.read_csv(data_file, header=0)\n",
    "rewards_data = rewards_data.dropna()\n",
    "# rewards_data[\"loss\"] = rewards_data[\"tensor_loss1\"].str.split(\"(\").str[1].astype(float)\n",
    "# rewards_data.head()\n",
    "\n",
    "rewards_data = rewards_data[:1000]\n",
    "plt.figure(figsize=(16, 12))\n",
    "\n",
    "def draw_fig(c1: int, c2: int, y_tick: int, horizontal_line: bool = False):\n",
    "    plt.xlabel(rewards_data.columns.values[c1])\n",
    "    plt.ylabel(rewards_data.columns.values[c2])\n",
    "    plt.title('{} vs {}'.format(rewards_data.columns.values[c1], rewards_data.columns.values[c2]))\n",
    "    y_min = rewards_data.iloc[:,c2].min()\n",
    "    y_max = rewards_data.iloc[:,c2].max()\n",
    "    y_ticks = np.linspace(y_min, y_max, y_tick)\n",
    "    plt.yticks(y_ticks)\n",
    "    plt.ylim(y_min, y_max)\n",
    "\n",
    "    plt.plot(rewards_data.iloc[:,0], rewards_data.iloc[:,2]) \n",
    "    # draw a horizontal line\n",
    "    if horizontal_line:\n",
    "        plt.axhline(y=1, color='r', linestyle='--')\n",
    "    plt.show()\n",
    "\n",
    "\n",
    "# add label of the line\n",
    "# plt.text(0, 1, 'loss=1', color='r', fontsize=12)\n",
    "# plt.xlabel('episode')\n",
    "# plt.ylabel('total reward')\n",
    "# plt.title('total reward vs episode')\n",
    "def draw_reward():\n",
    "    plt.xlabel('episode')\n",
    "    plt.ylabel('total reward')\n",
    "    plt.title('episode vs total reward')\n",
    "    plt.plot(rewards_data['episode'], rewards_data['total_reward']) \n",
    "    plt.show()\n",
    "\n",
    "# draw_reward()\n",
    "draw_fig(0,2, 10, True)\n"
   ]
  }
 ],
 "metadata": {
  "kernelspec": {
   "display_name": "LUNARLANDER",
   "language": "python",
   "name": "python3"
  },
  "language_info": {
   "codemirror_mode": {
    "name": "ipython",
    "version": 3
   },
   "file_extension": ".py",
   "mimetype": "text/x-python",
   "name": "python",
   "nbconvert_exporter": "python",
   "pygments_lexer": "ipython3",
   "version": "3.12.2"
  }
 },
 "nbformat": 4,
 "nbformat_minor": 2
}
