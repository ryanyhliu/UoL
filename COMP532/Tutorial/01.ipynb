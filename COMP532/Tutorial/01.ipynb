{
  "nbformat": 4,
  "nbformat_minor": 0,
  "metadata": {
    "colab": {
      "provenance": []
    },
    "kernelspec": {
      "name": "python3",
      "display_name": "Python 3"
    },
    "language_info": {
      "name": "python"
    }
  },
  "cells": [
    {
      "cell_type": "markdown",
      "source": [
        "## Imagine you are the boss of a casino.\n",
        "\n",
        "You are the boss. You have two machines, you have to design a multi-armed bandit.\n"
      ],
      "metadata": {
        "id": "l0gr4pBgphSk"
      }
    },
    {
      "cell_type": "code",
      "source": [
        "# use python library\n",
        "import numpy as np\n",
        "import time\n",
        "\n",
        "# one: win money\n",
        "arm0 = 0.2\n",
        "# another one: lose money\n",
        "arm1 = -0.2\n",
        "\n",
        "# return random rewards\n",
        "# draw random samples from a normal (Gaussian) distribution\n",
        "def bandit_machine(selected_arm):\n",
        "  arms_true_value = [0.2, -0.2] # arm 0 and arm 1\n",
        "  arms_std_devs = [2., 2.]\n",
        "  return np.random.normal(arms_true_value[selected_arm], arms_std_devs[selected_arm])\n",
        "\n"
      ],
      "metadata": {
        "id": "MkK_b-KUoMQn"
      },
      "execution_count": 4,
      "outputs": []
    },
    {
      "cell_type": "markdown",
      "source": [
        "Testing:\n",
        "\n",
        "two players: Tim and Tony"
      ],
      "metadata": {
        "id": "ck2x29zSjy64"
      }
    },
    {
      "cell_type": "code",
      "source": [
        "tim_select_arm = 0\n",
        "\n",
        "reward = bandit_machine(tim_select_arm)\n",
        "\n",
        "print(\"Tim\", reward)\n",
        "\n",
        "tony_select_arm = 1\n",
        "\n",
        "reward = bandit_machine(tony_select_arm)\n",
        "\n",
        "print(\"Tony\", reward)\n",
        "\n",
        "tim_select_arm = 1\n",
        "\n",
        "reward = bandit_machine(tim_select_arm)\n",
        "\n",
        "print(\"Tim\", reward)\n",
        "\n",
        "tony_select_arm = 0\n",
        "\n",
        "reward = bandit_machine(tony_select_arm)\n",
        "\n",
        "print(\"Tony\", reward)"
      ],
      "metadata": {
        "id": "fxWxcwQwjyOE",
        "colab": {
          "base_uri": "https://localhost:8080/"
        },
        "outputId": "1178ceac-8f5f-4220-aa28-c5bcc69dabbf"
      },
      "execution_count": 5,
      "outputs": [
        {
          "output_type": "stream",
          "name": "stdout",
          "text": [
            "Tim 0.27984824947879094\n",
            "Tony 2.808070518622338\n",
            "Tim -0.5821094003180443\n",
            "Tony 0.7782298865613837\n"
          ]
        }
      ]
    },
    {
      "cell_type": "markdown",
      "source": [
        "## Now imagine that you are a player\n",
        "\n",
        "You will play 2 machines. What is your strategy?\n"
      ],
      "metadata": {
        "id": "0hMVruqas6an"
      }
    },
    {
      "cell_type": "markdown",
      "source": [
        "### Strategy 1: random"
      ],
      "metadata": {
        "id": "OypTECczl2Gh"
      }
    },
    {
      "cell_type": "code",
      "source": [
        "import numpy as np\n",
        "\n",
        "# strategy - random\n",
        "def select_arm_by_random(total_arms):\n",
        "  return np.random.randint(total_arms)\n",
        "\n",
        "# the total number of arms\n",
        "total_arms = 2\n",
        "\n",
        "print(\"Testing\")\n",
        "# now you play 20 times\n",
        "total_t = 20\n",
        "for i in range(total_t):\n",
        "  selected_arm = select_arm_by_random(2)\n",
        "  print(selected_arm)\n",
        "\n"
      ],
      "metadata": {
        "colab": {
          "base_uri": "https://localhost:8080/"
        },
        "id": "oXu5itG7s5lF",
        "outputId": "0501c56c-8cf6-460a-8374-f28bd26c9fb3"
      },
      "execution_count": 10,
      "outputs": [
        {
          "output_type": "stream",
          "name": "stdout",
          "text": [
            "Testing\n",
            "1\n",
            "1\n",
            "1\n",
            "0\n",
            "0\n",
            "0\n",
            "1\n",
            "0\n",
            "1\n",
            "1\n",
            "0\n",
            "0\n",
            "1\n",
            "1\n",
            "1\n",
            "0\n",
            "0\n",
            "1\n",
            "0\n",
            "0\n"
          ]
        }
      ]
    },
    {
      "cell_type": "code",
      "source": [
        "# You are a player: rewards_collected[0] for arm0, rewards_collected[1] for arm1\n",
        "rewards_collected = [[],[]]\n",
        "\n",
        "print(\"Game is starting ...\")\n",
        "# you play 10 times\n",
        "total_t = 10\n",
        "for i in range(total_t):\n",
        "  # use a random strategy\n",
        "  arm = select_arm_by_random(2)\n",
        "\n",
        "  r = bandit_machine(arm) # machine returns reward\n",
        "\n",
        "  print(\"Play_time_step\",i+1, \": select arm\", arm, \", receive_reward\", r, )\n",
        "  # the true arm_value is unknown to players. The boss knows: one arm with winning money arm0 = 0.2  another one with losing money arm1 = -0.2\n",
        "\n",
        "  rewards_collected[arm].append(r)\n",
        "  time.sleep(2)\n",
        "\n",
        "# sum of rewards for arm0, sum of rewards for arm1\n",
        "print(\"arm 0:\", np.sum(rewards_collected[0]),\"arm 1:\", np.sum(rewards_collected[1]))\n",
        "print(\"Total rewards:\", np.sum(rewards_collected[0]) + np.sum(rewards_collected[1]))"
      ],
      "metadata": {
        "colab": {
          "base_uri": "https://localhost:8080/"
        },
        "id": "I1clNV-ft-S0",
        "outputId": "349e56b4-9fef-4bb0-f03e-426a3724501d"
      },
      "execution_count": 12,
      "outputs": [
        {
          "output_type": "stream",
          "name": "stdout",
          "text": [
            "Game is starting ...\n",
            "Play_time_step 1 : select arm 0 , receive_reward -2.536070839647887\n",
            "Play_time_step 2 : select arm 0 , receive_reward 0.8998836115028686\n",
            "Play_time_step 3 : select arm 1 , receive_reward -0.6944189958573245\n",
            "Play_time_step 4 : select arm 0 , receive_reward 0.8432184932299116\n",
            "Play_time_step 5 : select arm 1 , receive_reward -1.1423417427168234\n",
            "Play_time_step 6 : select arm 0 , receive_reward -1.7921276212545358\n",
            "Play_time_step 7 : select arm 1 , receive_reward 7.150614923848451\n",
            "Play_time_step 8 : select arm 0 , receive_reward -0.8605842915538455\n",
            "Play_time_step 9 : select arm 1 , receive_reward -0.2284833123689804\n",
            "Play_time_step 10 : select arm 1 , receive_reward -0.5903494078839939\n",
            "arm 0: -3.4456806477234876 arm 1: 4.495021465021329\n",
            "Total rewards: 1.0493408172978418\n"
          ]
        }
      ]
    },
    {
      "cell_type": "markdown",
      "source": [
        "### Strategy 2: greedy"
      ],
      "metadata": {
        "id": "YuECZDTtvlKt"
      }
    },
    {
      "cell_type": "code",
      "source": [
        "# greedy: alway choose the current best, i.e. using argmax\n",
        "def select_arm_by_greedy(estimated_values):\n",
        "  return np.argmax(estimated_values)"
      ],
      "metadata": {
        "id": "cgE-_BgTty95"
      },
      "execution_count": 13,
      "outputs": []
    },
    {
      "cell_type": "code",
      "source": [
        "# You are a player: record estimated values for each arm\n",
        "num_arms = 2\n",
        "estimated_values = np.zeros(num_arms)\n",
        "print(\"Initial estimate:\", estimated_values[0], estimated_values[1])\n",
        "\n",
        "# record numbers of pulls or plays for each arm\n",
        "num_pulls = np.zeros(num_arms)\n",
        "print(\"Initial number of pulls:\",  num_pulls[0], num_pulls[1])\n",
        "\n",
        "rewards_collected = [[0], [0]]\n",
        "timestep_collected = [[0], [0]]\n",
        "\n",
        "print(\"Game is starting ...\")\n",
        "# play total_t rounds\n",
        "total_t = 10\n",
        "for i in range(total_t):\n",
        "  # use greedy strategy\n",
        "  arm = select_arm_by_greedy(estimated_values)\n",
        "\n",
        "  reward = bandit_machine(arm) # machine from casino\n",
        "\n",
        "  num_pulls[arm] += 1\n",
        "\n",
        "  pre_estimated_value = estimated_values[arm]\n",
        "\n",
        "  diff = reward - pre_estimated_value\n",
        "\n",
        "  estimated_values[arm] = estimated_values[arm] + diff / num_pulls[arm]\n",
        "\n",
        "  print(\"Play_time_step\",i+1, \": choose arm\", arm, \", receive_reward\", reward)\n",
        "  # the true arm_value is unknown to players. The boss knows: one arm with winning money arm0 = 0.2  another one with losing money arm1 = -0.2\n",
        "\n",
        "  print(\" --Previous estimated value\", pre_estimated_value, \"received_reward\", reward, \"difference between the recieved reward and the previous (old) estimated_values\", diff, \"-> Updated estimated_values\", estimated_values[arm])\n",
        "  rewards_collected[arm].append(reward)\n",
        "  timestep_collected[arm].append(i+1)\n",
        "  time.sleep(2)\n",
        "\n",
        "print(\"arm 0\", rewards_collected[0], np.sum(rewards_collected[0]))\n",
        "print(\"arm 1\", rewards_collected[1], np.sum(rewards_collected[1]))\n",
        "print(\"Total\", np.sum(rewards_collected[0]) + np.sum(rewards_collected[1]))\n"
      ],
      "metadata": {
        "colab": {
          "base_uri": "https://localhost:8080/"
        },
        "id": "oihXa4iUx8AU",
        "outputId": "a7a6ed3f-5f18-4363-a42a-6e29a6fbce77"
      },
      "execution_count": 18,
      "outputs": [
        {
          "output_type": "stream",
          "name": "stdout",
          "text": [
            "Initial estimate: 0.0 0.0\n",
            "Initial number of pulls: 0.0 0.0\n",
            "Game is starting ...\n",
            "Play_time_step 1 : choose arm 0 , receive_reward -2.371638094397752\n",
            " --Previous estimated value 0.0 received_reward -2.371638094397752 difference between the recieved reward and the previous (old) estimated_values -2.371638094397752 -> Updated estimated_values -2.371638094397752\n",
            "Play_time_step 2 : choose arm 1 , receive_reward 0.9092478578952596\n",
            " --Previous estimated value 0.0 received_reward 0.9092478578952596 difference between the recieved reward and the previous (old) estimated_values 0.9092478578952596 -> Updated estimated_values 0.9092478578952596\n",
            "Play_time_step 3 : choose arm 1 , receive_reward -1.8606864023356184\n",
            " --Previous estimated value 0.9092478578952596 received_reward -1.8606864023356184 difference between the recieved reward and the previous (old) estimated_values -2.769934260230878 -> Updated estimated_values -0.4757192722201793\n",
            "Play_time_step 4 : choose arm 1 , receive_reward -0.47082875934442525\n",
            " --Previous estimated value -0.4757192722201793 received_reward -0.47082875934442525 difference between the recieved reward and the previous (old) estimated_values 0.004890512875754038 -> Updated estimated_values -0.4740891012615946\n",
            "Play_time_step 5 : choose arm 1 , receive_reward 0.9486345842885544\n",
            " --Previous estimated value -0.4740891012615946 received_reward 0.9486345842885544 difference between the recieved reward and the previous (old) estimated_values 1.422723685550149 -> Updated estimated_values -0.11840817987405733\n",
            "Play_time_step 6 : choose arm 1 , receive_reward -5.873387851355908\n",
            " --Previous estimated value -0.11840817987405733 received_reward -5.873387851355908 difference between the recieved reward and the previous (old) estimated_values -5.75497967148185 -> Updated estimated_values -1.2694041141704273\n",
            "Play_time_step 7 : choose arm 1 , receive_reward -2.9315367442416105\n",
            " --Previous estimated value -1.2694041141704273 received_reward -2.9315367442416105 difference between the recieved reward and the previous (old) estimated_values -1.6621326300711832 -> Updated estimated_values -1.5464262191822913\n",
            "Play_time_step 8 : choose arm 1 , receive_reward -4.8354084309858045\n",
            " --Previous estimated value -1.5464262191822913 received_reward -4.8354084309858045 difference between the recieved reward and the previous (old) estimated_values -3.2889822118035132 -> Updated estimated_values -2.0162808208685075\n",
            "Play_time_step 9 : choose arm 1 , receive_reward -3.567804647461897\n",
            " --Previous estimated value -2.0162808208685075 received_reward -3.567804647461897 difference between the recieved reward and the previous (old) estimated_values -1.5515238265933897 -> Updated estimated_values -2.210221299192681\n",
            "Play_time_step 10 : choose arm 1 , receive_reward 1.6113659816792927\n",
            " --Previous estimated value -2.210221299192681 received_reward 1.6113659816792927 difference between the recieved reward and the previous (old) estimated_values 3.8215872808719737 -> Updated estimated_values -1.7856004902069063\n",
            "arm 0 [0, -2.371638094397752] -2.371638094397752\n",
            "arm 1 [0, 0.9092478578952596, -1.8606864023356184, -0.47082875934442525, 0.9486345842885544, -5.873387851355908, -2.9315367442416105, -4.8354084309858045, -3.567804647461897, 1.6113659816792927] -16.070404411862157\n",
            "Total -18.44204250625991\n"
          ]
        }
      ]
    },
    {
      "cell_type": "markdown",
      "source": [
        "Plot figures"
      ],
      "metadata": {
        "id": "_3S6uF1SsOj_"
      }
    },
    {
      "cell_type": "code",
      "source": [
        "import matplotlib.pyplot as plt\n",
        "\n",
        "ys = rewards_collected[0]\n",
        "x = timestep_collected[0]\n",
        "\n",
        "fig = plt.figure()\n",
        "ax1 = plt.subplot2grid((1, 2), (0, 0), rowspan=1, colspan=1)\n",
        "ax2 = plt.subplot2grid((1, 2), (0, 1), rowspan=1, colspan=1)\n",
        "\n",
        "ax1.plot(x, ys, '-')\n",
        "ax1.set_xticks(x)\n",
        "ax1.set_xticklabels(x, fontsize=12)\n",
        "\n",
        "ax1.set_title(\"Arm 0\")\n",
        "\n",
        "ys = rewards_collected[1]\n",
        "x = timestep_collected[1]\n",
        "ax2.plot(x, ys, '-')\n",
        "ax2.set_xticks(x)\n",
        "ax2.set_xticklabels(x, fontsize=12)\n",
        "\n",
        "ax2.set_title(\"Arm 1\")\n",
        "plt.tight_layout()\n",
        "plt.show()"
      ],
      "metadata": {
        "colab": {
          "base_uri": "https://localhost:8080/",
          "height": 487
        },
        "id": "WLFcslN_n2t1",
        "outputId": "0a74b14b-f1d4-4576-eebb-f73e75a442c1"
      },
      "execution_count": 19,
      "outputs": [
        {
          "output_type": "display_data",
          "data": {
            "text/plain": [
              "<Figure size 640x480 with 2 Axes>"
            ],
            "image/png": "[encoded data removed]"
          },
          "metadata": {}
        }
      ]
    },
    {
      "cell_type": "code",
      "source": [
        "# e-greedy:\n",
        "# choose the current best, i.e. using argmax with probability 1-epsilon\n",
        "# choose a random arm with probability epsilon\n",
        "def select_arm_by_egreedy(estimated_values, epsilon = 0.2):\n",
        "  if np.random.random() > epsilon:\n",
        "    return np.argmax(estimated_values) # exploitation\n",
        "  else:\n",
        "    return np.random.randint(num_arms) # exploration"
      ],
      "metadata": {
        "id": "60_8lmbuzPIy"
      },
      "execution_count": 22,
      "outputs": []
    },
    {
      "cell_type": "markdown",
      "source": [],
      "metadata": {
        "id": "Wf3kDxPUpgMg"
      }
    },
    {
      "cell_type": "code",
      "source": [
        "# You are a player: record estimated values for each arm\n",
        "num_arms = 2\n",
        "estimated_values = np.zeros(num_arms)\n",
        "print(\"Initial estimate:\", estimated_values[0], estimated_values[1])\n",
        "\n",
        "# record numbers of pulls or plays for each arm\n",
        "num_pulls = np.zeros(num_arms)\n",
        "print(\"Initial number of pulls:\",  num_pulls[0], num_pulls[1])\n",
        "\n",
        "rewards_collected = [[0], [0]]\n",
        "timestep_collected = [[0], [0]]\n",
        "\n",
        "print(\"Game is starting ...\")\n",
        "# play total_t rounds\n",
        "total_t = 10\n",
        "for i in range(total_t):\n",
        "  # use greedy strategy\n",
        "  arm = select_arm_by_egreedy(estimated_values)\n",
        "\n",
        "  reward = bandit_machine(arm) # machine from casino\n",
        "\n",
        "  num_pulls[arm] += 1\n",
        "\n",
        "  pre_estimated_value = estimated_values[arm]\n",
        "\n",
        "  diff = reward - pre_estimated_value\n",
        "\n",
        "  estimated_values[arm] = estimated_values[arm] + diff / num_pulls[arm]\n",
        "\n",
        "  print(\"Play_time_step\",i+1, \": choose arm\", arm, \", receive_reward\", reward)\n",
        "  # the true arm_value is unknown to players. The boss knows: one arm with winning money arm0 = 0.2  another one with losing money arm1 = -0.2\n",
        "\n",
        "  print(\" --Previous estimated value\", pre_estimated_value, \"received_reward\", reward, \"difference between the recieved reward and the previous (old) estimated_values\", diff, \"-> Updated estimated_values\", estimated_values[arm])\n",
        "  rewards_collected[arm].append(reward)\n",
        "  timestep_collected[arm].append(i+1)\n",
        "  time.sleep(2)\n",
        "\n",
        "print(\"arm 0\", rewards_collected[0], np.sum(rewards_collected[0]))\n",
        "print(\"arm 1\", rewards_collected[1], np.sum(rewards_collected[1]))\n",
        "print(\"Total\", np.sum(rewards_collected[0]) + np.sum(rewards_collected[1]))\n"
      ],
      "metadata": {
        "colab": {
          "base_uri": "https://localhost:8080/"
        },
        "id": "AEfG3QKsoycz",
        "outputId": "9990c7f7-26e3-46b2-d1d9-596f2ddde164"
      },
      "execution_count": 26,
      "outputs": [
        {
          "output_type": "stream",
          "name": "stdout",
          "text": [
            "Initial estimate: 0.0 0.0\n",
            "Initial number of pulls: 0.0 0.0\n",
            "Game is starting ...\n",
            "Play_time_step 1 : choose arm 0 , receive_reward 0.17332716330303746\n",
            " --Previous estimated value 0.0 received_reward 0.17332716330303746 difference between the recieved reward and the previous (old) estimated_values 0.17332716330303746 -> Updated estimated_values 0.17332716330303746\n",
            "Play_time_step 2 : choose arm 1 , receive_reward 1.1223999222208232\n",
            " --Previous estimated value 0.0 received_reward 1.1223999222208232 difference between the recieved reward and the previous (old) estimated_values 1.1223999222208232 -> Updated estimated_values 1.1223999222208232\n",
            "Play_time_step 3 : choose arm 1 , receive_reward -1.5120520510352797\n",
            " --Previous estimated value 1.1223999222208232 received_reward -1.5120520510352797 difference between the recieved reward and the previous (old) estimated_values -2.6344519732561027 -> Updated estimated_values -0.19482606440722816\n",
            "Play_time_step 4 : choose arm 0 , receive_reward -1.8560019129130791\n",
            " --Previous estimated value 0.17332716330303746 received_reward -1.8560019129130791 difference between the recieved reward and the previous (old) estimated_values -2.0293290762161167 -> Updated estimated_values -0.8413373748050209\n",
            "Play_time_step 5 : choose arm 1 , receive_reward 2.9362945769741096\n",
            " --Previous estimated value -0.19482606440722816 received_reward 2.9362945769741096 difference between the recieved reward and the previous (old) estimated_values 3.1311206413813375 -> Updated estimated_values 0.8488808160532177\n",
            "Play_time_step 6 : choose arm 1 , receive_reward -2.7420605466374237\n",
            " --Previous estimated value 0.8488808160532177 received_reward -2.7420605466374237 difference between the recieved reward and the previous (old) estimated_values -3.5909413626906415 -> Updated estimated_values -0.04885452461944262\n",
            "Play_time_step 7 : choose arm 1 , receive_reward -1.1022074715401917\n",
            " --Previous estimated value -0.04885452461944262 received_reward -1.1022074715401917 difference between the recieved reward and the previous (old) estimated_values -1.0533529469207492 -> Updated estimated_values -0.25952511400359246\n",
            "Play_time_step 8 : choose arm 0 , receive_reward -1.3490956489522015\n",
            " --Previous estimated value -0.8413373748050209 received_reward -1.3490956489522015 difference between the recieved reward and the previous (old) estimated_values -0.5077582741471806 -> Updated estimated_values -1.0105901328540812\n",
            "Play_time_step 9 : choose arm 1 , receive_reward 1.0188800286924238\n",
            " --Previous estimated value -0.25952511400359246 received_reward 1.0188800286924238 difference between the recieved reward and the previous (old) estimated_values 1.2784051426960161 -> Updated estimated_values -0.046457590220923106\n",
            "Play_time_step 10 : choose arm 1 , receive_reward -2.4817776551784583\n",
            " --Previous estimated value -0.046457590220923106 received_reward -2.4817776551784583 difference between the recieved reward and the previous (old) estimated_values -2.4353200649575353 -> Updated estimated_values -0.39436045664342817\n",
            "arm 0 [0, 0.17332716330303746, -1.8560019129130791, -1.3490956489522015] -3.031770398562243\n",
            "arm 1 [0, 1.1223999222208232, -1.5120520510352797, 2.9362945769741096, -2.7420605466374237, -1.1022074715401917, 1.0188800286924238, -2.4817776551784583] -2.760523196503997\n",
            "Total -5.792293595066241\n"
          ]
        }
      ]
    },
    {
      "cell_type": "markdown",
      "source": [
        "plot figures"
      ],
      "metadata": {
        "id": "7fX6QgnKsjHA"
      }
    },
    {
      "cell_type": "code",
      "source": [
        "import matplotlib.pyplot as plt\n",
        "\n",
        "ys = rewards_collected[0]\n",
        "x = timestep_collected[0]\n",
        "\n",
        "fig = plt.figure()\n",
        "ax1 = plt.subplot2grid((1, 2), (0, 0), rowspan=1, colspan=1)\n",
        "ax2 = plt.subplot2grid((1, 2), (0, 1), rowspan=1, colspan=1)\n",
        "\n",
        "ax1.plot(x, ys, '-')\n",
        "ax1.set_xticks(x)\n",
        "ax1.set_xticklabels(x, fontsize=12)\n",
        "\n",
        "ax1.set_title(\"Arm 0\")\n",
        "\n",
        "ys = rewards_collected[1]\n",
        "x = timestep_collected[1]\n",
        "ax2.plot(x, ys, '-')\n",
        "ax2.set_xticks(x)\n",
        "ax2.set_xticklabels(x, fontsize=12)\n",
        "\n",
        "ax2.set_title(\"Arm 1\")\n",
        "plt.tight_layout()\n",
        "plt.show()"
      ],
      "metadata": {
        "id": "to0YNaobobpq",
        "colab": {
          "base_uri": "https://localhost:8080/",
          "height": 487
        },
        "outputId": "5879e2b8-1c08-4cb8-f5e0-3e574fcc987d"
      },
      "execution_count": 27,
      "outputs": [
        {
          "output_type": "display_data",
          "data": {
            "text/plain": [
              "<Figure size 640x480 with 2 Axes>"
            ],
            "image/png": "[encoded data removed]"
          },
          "metadata": {}
        }
      ]
    }
  ]
}