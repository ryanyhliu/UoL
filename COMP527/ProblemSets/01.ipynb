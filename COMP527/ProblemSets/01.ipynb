{
 "cells": [
  {
   "cell_type": "markdown",
   "metadata": {},
   "source": [
    "# Exercise 1 - 向量 和, 内积, 外积"
   ]
  },
  {
   "cell_type": "code",
   "execution_count": 9,
   "metadata": {},
   "outputs": [
    {
     "data": {
      "text/plain": [
       "(array([4, 4, 4]),\n",
       " 10,\n",
       " array([[3, 6, 9],\n",
       "        [2, 4, 6],\n",
       "        [1, 2, 3]]))"
      ]
     },
     "execution_count": 9,
     "metadata": {},
     "output_type": "execute_result"
    }
   ],
   "source": [
    "import numpy as np\n",
    "\n",
    "# 定义向量X和Y\n",
    "X = np.array([1, 2, 3])\n",
    "Y = np.array([3, 2, 1])\n",
    "\n",
    "# 计算向量和\n",
    "vector_sum = X + Y\n",
    "\n",
    "# 计算内积\n",
    "inner_product = np.dot(X, Y)\n",
    "\n",
    "# 计算外积\n",
    "outer_product = np.outer(Y, X)\n",
    "\n",
    "vector_sum, inner_product, outer_product\n"
   ]
  },
  {
   "cell_type": "markdown",
   "metadata": {},
   "source": [
    "# Exercise 2 - 矩阵 和, 积\n",
    "- 和: 可交换\n",
    "- 积: 不可狡猾, 除非 对称矩阵"
   ]
  },
  {
   "cell_type": "code",
   "execution_count": 10,
   "metadata": {},
   "outputs": [
    {
     "name": "stdout",
     "output_type": "stream",
     "text": [
      "A + B:\n",
      "[[ 1  3  3]\n",
      " [ 5  7  9]\n",
      " [ 6  8 10]]\n",
      "B + A:\n",
      "[[ 1  3  3]\n",
      " [ 5  7  9]\n",
      " [ 6  8 10]]\n",
      "A * B:\n",
      "[[-1  5  9]\n",
      " [-1 14 21]\n",
      " [-1 23 33]]\n",
      "B * A:\n",
      "[[ 4  5  6]\n",
      " [30 36 42]\n",
      " [ 6  6  6]]\n"
     ]
    }
   ],
   "source": [
    "import numpy as np\n",
    "\n",
    "# 定义矩阵A和B\n",
    "A = np.array([[1, 2, 3], \n",
    "              [4, 5, 6], \n",
    "              [7, 8, 9]])\n",
    "\n",
    "B = np.array([[0, 1, 0],\n",
    "              [1, 2, 3],\n",
    "              [-1, 0, 1]])\n",
    "\n",
    "# 计算矩阵和 A + B 和 B + A\n",
    "matrix_sum_A_B = A + B\n",
    "matrix_sum_B_A = B + A\n",
    "\n",
    "# 计算矩阵乘积 A * B 和 B * A\n",
    "matrix_product_A_B = np.dot(A, B)\n",
    "matrix_product_B_A = np.dot(B, A)\n",
    "\n",
    "# 打印结果\n",
    "print(\"A + B:\")\n",
    "print(matrix_sum_A_B)\n",
    "print(\"B + A:\")\n",
    "print(matrix_sum_B_A)\n",
    "print(\"A * B:\")\n",
    "print(matrix_product_A_B)\n",
    "print(\"B * A:\")\n",
    "print(matrix_product_B_A)\n"
   ]
  },
  {
   "cell_type": "markdown",
   "metadata": {},
   "source": [
    "# Exercise 3 - 逆矩阵"
   ]
  },
  {
   "cell_type": "code",
   "execution_count": 11,
   "metadata": {},
   "outputs": [
    {
     "name": "stdout",
     "output_type": "stream",
     "text": [
      "[[ 0.2 -0.4]\n",
      " [ 0.4  0.2]]\n",
      "[[1. 0.]\n",
      " [0. 1.]]\n"
     ]
    }
   ],
   "source": [
    "# 定义矩阵A\n",
    "A = np.array([[1, 2], [-2, 1]])\n",
    "\n",
    "# 计算矩阵A的逆\n",
    "A_inverse = np.linalg.inv(A)\n",
    "print(A_inverse)\n",
    "\n",
    "# 验证矩阵A及其逆的乘积是否为2x2单位矩阵\n",
    "identity_matrix = np.dot(A, A_inverse)\n",
    "print(identity_matrix)"
   ]
  },
  {
   "cell_type": "markdown",
   "metadata": {},
   "source": [
    "# Exercise 4 - 线性独立 (秩)\n",
    "\n",
    "## 秩\n",
    "在矩阵中，秩是指矩阵中行向量或列向量组成的最大线性无关组的大小。\n",
    "\n",
    "如果一个矩阵的秩等于其列数，这意味着矩阵中的每一列都是线性无关的，没有一列可以通过其他列的线性组合来表示。这样的矩阵被称为满秩矩阵。\n",
    "如果一个矩阵的秩小于其列数，这意味着矩阵中的某些列是线性相关的。换句话说，至少有一列可以用其他列的线性组合来表示。\n",
    "\n",
    "秩也可以用来描述行向量的线性无关性。\n",
    "\n",
    "## 线性无关。\n",
    "如果一组向量是线性无关的，那意味着没有任何一个向量可以通过其他向量的线性组合来表示。例如，向量 (1,0) 和 (0,1) 在二维空间中是线性无关的，因为你无法使用其中一个向量乘以某个数来得到另一个向量。如果一组向量中至少有一个向量可以通过其他向量的线性组合来表示，那么这组向量就是线性相关的。\n",
    "\n",
    "举个例子，考虑以下两个矩阵：\n",
    "\n",
    "矩阵1:\n",
    "[ 10\n",
    "  01 ]\n",
    "矩阵2:\n",
    "[ 11​ \n",
    "  22 ]\n",
    "矩阵1的秩是2，因为两行两列都是线性无关的。矩阵2的秩是1，因为第二列只是第一列的两倍，所以它们是线性相关的。"
   ]
  },
  {
   "cell_type": "code",
   "execution_count": 12,
   "metadata": {},
   "outputs": [
    {
     "data": {
      "text/plain": [
       "3"
      ]
     },
     "execution_count": 12,
     "metadata": {},
     "output_type": "execute_result"
    }
   ],
   "source": [
    "import numpy as np\n",
    "\n",
    "# 定义向量A, B, C\n",
    "A = np.array([1, 2, -3, 4])\n",
    "B = np.array([1, 1, 0, 2])\n",
    "C = np.array([-1, -2, 1, 1])\n",
    "\n",
    "# 创建矩阵，将向量A, B, C作为列向量\n",
    "matrix = np.column_stack((A, B, C))\n",
    "\n",
    "# 计算矩阵的秩\n",
    "rank = np.linalg.matrix_rank(matrix)\n",
    "\n",
    "rank\n"
   ]
  },
  {
   "cell_type": "code",
   "execution_count": 13,
   "metadata": {},
   "outputs": [
    {
     "data": {
      "text/plain": [
       "{λ1: 0, λ2: 0, λ3: 0}"
      ]
     },
     "execution_count": 13,
     "metadata": {},
     "output_type": "execute_result"
    }
   ],
   "source": [
    "from sympy import symbols, Eq, solve\n",
    "\n",
    "# 定义λ1, λ2, λ3为符号变量\n",
    "λ1, λ2, λ3 = symbols('λ1 λ2 λ3')\n",
    "\n",
    "# 建立方程组\n",
    "eq1 = Eq(λ1 + λ2 - λ3, 0)\n",
    "eq2 = Eq(2*λ1 + λ2 - 2*λ3, 0)\n",
    "eq3 = Eq(-3*λ1 + λ3, 0)\n",
    "eq4 = Eq(4*λ1 + 2*λ2 + λ3, 0)\n",
    "\n",
    "# 解方程组\n",
    "solution = solve((eq1, eq2, eq3, eq4), (λ1, λ2, λ3))\n",
    "\n",
    "solution\n"
   ]
  },
  {
   "cell_type": "markdown",
   "metadata": {},
   "source": [
    "# Exercise 5 - 秩"
   ]
  },
  {
   "cell_type": "code",
   "execution_count": 16,
   "metadata": {},
   "outputs": [
    {
     "data": {
      "text/plain": [
       "(2, 2)"
      ]
     },
     "execution_count": 16,
     "metadata": {},
     "output_type": "execute_result"
    }
   ],
   "source": [
    "# 定义矩阵A和B\n",
    "A = np.array([[1, 0, 1],\n",
    "              [0, 1, 1],\n",
    "              [0, 0, 0]])\n",
    "\n",
    "B = np.array([[1, 2, 1],\n",
    "              [-2, -3, 1],\n",
    "              [3, 5, 0]])\n",
    "\n",
    "# 计算矩阵A和B的秩\n",
    "rank_A = np.linalg.matrix_rank(A)\n",
    "rank_B = np.linalg.matrix_rank(B)\n",
    "\n",
    "rank_A, rank_B\n"
   ]
  },
  {
   "cell_type": "markdown",
   "metadata": {},
   "source": [
    "# Exercise 6 - 特征值, 特征向量"
   ]
  },
  {
   "cell_type": "code",
   "execution_count": 20,
   "metadata": {},
   "outputs": [
    {
     "name": "stdout",
     "output_type": "stream",
     "text": [
      "Eigenvalues: {5: 1, 2: 1}\n",
      "Eigenvectors: [(2, 1, [Matrix([\n",
      "[-1],\n",
      "[ 1]])]), (5, 1, [Matrix([\n",
      "[2],\n",
      "[1]])])]\n"
     ]
    }
   ],
   "source": [
    "from sympy import Matrix\n",
    "\n",
    "# Define matrix A\n",
    "A = Matrix([[4, 2], \n",
    "            [1, 3]])\n",
    "\n",
    "# Calculate eigenvalues\n",
    "eigenvals = A.eigenvals()\n",
    "\n",
    "# Calculate eigenvectors\n",
    "eigenvects = A.eigenvects()\n",
    "\n",
    "print(\"Eigenvalues:\", eigenvals)\n",
    "print(\"Eigenvectors:\", eigenvects)\n",
    "\n"
   ]
  }
 ],
 "metadata": {
  "kernelspec": {
   "display_name": "Python 3",
   "language": "python",
   "name": "python3"
  },
  "language_info": {
   "codemirror_mode": {
    "name": "ipython",
    "version": 3
   },
   "file_extension": ".py",
   "mimetype": "text/x-python",
   "name": "python",
   "nbconvert_exporter": "python",
   "pygments_lexer": "ipython3",
   "version": "3.10.11"
  }
 },
 "nbformat": 4,
 "nbformat_minor": 2
}
