{
 "cells": [
  {
   "cell_type": "markdown",
   "id": "union-gardening",
   "metadata": {},
   "source": [
    "# Logistic Regression (Spam Email Classifier)"
   ]
  },
  {
   "cell_type": "markdown",
   "id": "stone-steel",
   "metadata": {
    "tags": []
   },
   "source": [
    "In this lab we will develop a Spam email classifier using Logistic Regression.\n",
    "\n",
    "We will use [SPAM E-mail Database](https://www.kaggle.com/somesh24/spambase) from Kaggle, which was split into two almost equal parts: training dataset (train.csv) and test dataset (test.csv).\n",
    "Each record in the datasets contains 58 features, one of which is the class label. The class label is the last feature and it takes two values +1 (spam email) and -1 (non-spam email). The other features represent various characteristics of emails such as frequencies of certain words or characters in the text of an email; and lengths of sequences of consecutive capital letters (See [SPAM E-mail Database](https://www.kaggle.com/somesh24/spambase) for the detailed description of the features)."
   ]
  },
  {
   "cell_type": "code",
   "execution_count": 1,
   "id": "unlikely-dietary",
   "metadata": {
    "tags": []
   },
   "outputs": [],
   "source": [
    "import numpy as np\n",
    "import random"
   ]
  },
  {
   "cell_type": "markdown",
   "id": "round-buddy",
   "metadata": {},
   "source": [
    "We start with implementing some auxiliary functions."
   ]
  },
  {
   "cell_type": "code",
   "execution_count": 2,
   "id": "alert-material",
   "metadata": {},
   "outputs": [],
   "source": [
    "# Implement sigmoid function\n",
    "def sigmoid(x):\n",
    "    # Bound the argument to be in the interval [-500, 500] to prevent overflow\n",
    "    x = np.clip( x, -500, 500 )\n",
    "\n",
    "    return 1/(1 + np.exp(-x))"
   ]
  },
  {
   "cell_type": "code",
   "execution_count": 3,
   "id": "legitimate-passport",
   "metadata": {},
   "outputs": [],
   "source": [
    "def load_data(fname):\n",
    "    labels = []\n",
    "    features = []\n",
    "    \n",
    "    with open(fname) as F:\n",
    "        next(F) # skip the first line with feature names\n",
    "        for line in F:\n",
    "            p = line.strip().split(',')\n",
    "            labels.append(int(p[-1]))\n",
    "            features.append(np.array(p[:-1], float))\n",
    "    return (np.array(labels), np.array(features))"
   ]
  },
  {
   "cell_type": "markdown",
   "id": "interstate-wheel",
   "metadata": {},
   "source": [
    "Next we read the training and the test datasets."
   ]
  },
  {
   "cell_type": "code",
   "execution_count": 4,
   "id": "tender-friendly",
   "metadata": {},
   "outputs": [],
   "source": [
    "(trainingLabels, trainingData) = load_data(\"train.csv\")\n",
    "(testLabels, testData) = load_data(\"test.csv\")"
   ]
  },
  {
   "cell_type": "markdown",
   "id": "stuffed-vertical",
   "metadata": {},
   "source": [
    "In the files the positive objects appear before the negative objects. So we reshuffle both datasets to avoid situation when we present to our training algorithm all positive objects and then all negative objects."
   ]
  },
  {
   "cell_type": "code",
   "execution_count": 5,
   "id": "straight-highland",
   "metadata": {},
   "outputs": [],
   "source": [
    "#Reshuffle training data and\n",
    "permutation =  np.random.permutation(len(trainingData))\n",
    "trainingLabels = trainingLabels[permutation]\n",
    "trainingData = trainingData[permutation]\n",
    "\n",
    "#test data\n",
    "permutation =  np.random.permutation(len(testData))\n",
    "testLabels = testLabels[permutation]\n",
    "testData = testData[permutation]"
   ]
  },
  {
   "cell_type": "markdown",
   "id": "ahead-blair",
   "metadata": {},
   "source": [
    "## Exercise 1\n",
    "\n",
    "1. Implement Logistic Regression training algorithm."
   ]
  },
  {
   "cell_type": "code",
   "execution_count": 6,
   "id": "hazardous-hours",
   "metadata": {},
   "outputs": [],
   "source": [
    "def logisticRegression(trainingData, trainingLabels, learningRate, maxIter):\n",
    "    #Compute the number of training objects\n",
    "    numTrainingObj = len(trainingData)\n",
    "    #Compute the number of features (dimension of our data)\n",
    "    numFeatures = len(trainingData[0])\n",
    "    \n",
    "    #Initialize the bias term and the weights\n",
    "    b = 0\n",
    "    W = np.zeros(numFeatures, dtype=np.float128)\n",
    "    \n",
    "    for t in range(maxIter):\n",
    "        #For every training object\n",
    "        for i in range(numTrainingObj):\n",
    "            X = trainingData[i]\n",
    "            y = trainingLabels[i]\n",
    "            #Compute the activation score\n",
    "            a = np.dot(X, W) + b\n",
    "        \n",
    "            #Update the bias term and the weights\n",
    "            b = b + learningRate*y*sigmoid(-y*a)\n",
    "            for s in range(numFeatures):\n",
    "                W[s] = W[s] + learningRate*y*sigmoid(-y*a)*X[s]\n",
    "            \n",
    "            #The above for-loop can be equivalently written in the vector form as follows\n",
    "            #W = np.add(W, learningRate*y*sigmoid(-y*a)*X)\n",
    "            \n",
    "    return (b, W)"
   ]
  },
  {
   "cell_type": "markdown",
   "id": "adult-bottle",
   "metadata": {},
   "source": [
    "2. Use the training dataset to train Logistic Regression classifier. Use learningRate=0.1 and maxIter=10. Output the bias term and the weight vector of the trained model."
   ]
  },
  {
   "cell_type": "code",
   "execution_count": 7,
   "id": "juvenile-request",
   "metadata": {},
   "outputs": [
    {
     "name": "stdout",
     "output_type": "stream",
     "text": [
      "Bias term:  -372.50583505382194097 \n",
      "Weight vector:  [  -4.06907888 -103.36947318  -26.45890426    9.769       -24.56475082\n",
      "   18.79321189   49.96750584   34.82771073    4.66779331   -5.83907522\n",
      "   12.26129104 -244.64907509   11.09677929   -8.01756238   13.333\n",
      "  102.51469675   34.73624603   21.71872523  -16.72953192   46.231\n",
      "   83.23429667   94.957        57.39649369   60.74638059 -653.23374459\n",
      " -302.42621109 -311.92975736 -151.61695266 -124.95360719 -113.15797848\n",
      "  -74.54897863  -49.71597848 -113.8829516   -51.57397848 -127.66184855\n",
      "  -92.94474702 -158.51516313   -0.669       -89.06522497  -44.70297848\n",
      "  -63.43373419 -177.52756458  -65.83995616  -85.8377336  -147.45683165\n",
      "  -75.9957342    -7.62290153  -38.12401619  -17.53236711  -86.91459667\n",
      "  -17.11060101   89.4320508    39.28911875    4.97647861 -331.53166083\n",
      "  151.0743862   -95.85092115]\n"
     ]
    }
   ],
   "source": [
    "(b,W) = logisticRegression(trainingData, trainingLabels, 0.1, 10)\n",
    "print(\"Bias term: \", b, \"\\nWeight vector: \", W) "
   ]
  },
  {
   "cell_type": "markdown",
   "id": "breeding-focus",
   "metadata": {},
   "source": [
    "## Exercise 2\n",
    "\n",
    "1. Implement Logistic Regression classifier with given bias term and weight vector"
   ]
  },
  {
   "cell_type": "code",
   "execution_count": 8,
   "id": "whole-cause",
   "metadata": {},
   "outputs": [],
   "source": [
    "def logisticRegressionTest(b, W, X):\n",
    "    #Compute the activation score\n",
    "    a = np.dot(X, W) + b\n",
    "    predictedClass = 0;\n",
    "    confidence = 0;\n",
    "    \n",
    "    if a > 0:\n",
    "        predictedClass = +1\n",
    "        confidence = sigmoid(a)\n",
    "    else:\n",
    "        predictedClass = -1\n",
    "        confidence = 1-sigmoid(a)\n",
    "    return (predictedClass, confidence)"
   ]
  },
  {
   "cell_type": "markdown",
   "id": "private-louisiana",
   "metadata": {},
   "source": [
    "2. Use the trained model to classify objects in the test dataset. Output an evaluation report (accuracy, precision, recall, F-score)."
   ]
  },
  {
   "cell_type": "code",
   "execution_count": 9,
   "id": "favorite-jones",
   "metadata": {},
   "outputs": [],
   "source": [
    "def evaluationReport(classTrue, classPred):\n",
    "    positive_mask = classTrue == 1\n",
    "\n",
    "    # Count the number of elements in the positive class \n",
    "    positive = np.count_nonzero(positive_mask)\n",
    "    # Count True Positive\n",
    "    tp = np.count_nonzero(classPred[positive_mask]==1)\n",
    "    # Count False Negative\n",
    "    fn = np.count_nonzero(classPred[positive_mask]==-1)\n",
    "    \n",
    "    negative_mask = classTrue == -1\n",
    "\n",
    "    # Count the number of elements in the negative class \n",
    "    negative = np.count_nonzero(negative_mask)\n",
    "    # Count False Positive\n",
    "    fp = np.count_nonzero(classPred[negative_mask]==1)\n",
    "    # Count True Negative\n",
    "    tn = np.count_nonzero(classPred[negative_mask]==-1)\n",
    "\n",
    "    # Compute Accuracy, Precision, Recall, and F-score\n",
    "    accuracy = (tp + tn)/(tp + tn + fp + fn)\n",
    "    precision = tp/(tp + fp)\n",
    "    recall = tp/(tp + fn)\n",
    "    fscore = 2*precision*recall/(precision + recall)\n",
    "    print(\"Evaluation report\")\n",
    "    print(\"Accuracy: %.2f\" % accuracy)\n",
    "    print(\"Precision: %.2f\" % precision)\n",
    "    print(\"Recall: %.2f\" % recall)\n",
    "    print(\"F-score: %.2f\" % fscore)"
   ]
  },
  {
   "cell_type": "code",
   "execution_count": 10,
   "id": "committed-refund",
   "metadata": {},
   "outputs": [
    {
     "name": "stdout",
     "output_type": "stream",
     "text": [
      "Evaluation report\n",
      "Accuracy: 0.62\n",
      "Precision: 0.87\n",
      "Recall: 0.02\n",
      "F-score: 0.04\n"
     ]
    }
   ],
   "source": [
    "classTrue = np.array([int(x) for x in testLabels], dtype=int)\n",
    "classPred = np.array([int(logisticRegressionTest(b,W,X)[0]) for X in testData], dtype=int)\n",
    "evaluationReport(classTrue, classPred)"
   ]
  },
  {
   "cell_type": "markdown",
   "id": "optimum-accessory",
   "metadata": {},
   "source": [
    "## Exercise 3\n",
    "\n",
    "1. Apply Gaussian Normalisation to the training dataset"
   ]
  },
  {
   "cell_type": "code",
   "execution_count": 11,
   "id": "continental-letter",
   "metadata": {},
   "outputs": [],
   "source": [
    "def GaussianNormalisation(dataset):\n",
    "    #Compute the number of features\n",
    "    numFeatures = len(dataset[0])\n",
    "    \n",
    "    featureMean = np.empty(numFeatures, float)\n",
    "    featureStd = np.empty(numFeatures, float)\n",
    "    \n",
    "    #For every feature\n",
    "    for i in range(numFeatures):\n",
    "        #find its Mean and Std\n",
    "        featureMean[i] = dataset[:,i].mean(axis=0)\n",
    "        featureStd[i] = dataset[:,i].std(axis=0)\n",
    "        #Apply Gaussian Noramlisation\n",
    "        dataset[:,i] = (dataset[:,i] - featureMean[i])/featureStd[i]\n",
    "\n",
    "    return (featureMean, featureStd)"
   ]
  },
  {
   "cell_type": "code",
   "execution_count": 12,
   "id": "together-asian",
   "metadata": {},
   "outputs": [],
   "source": [
    "#normalize the training dataset\n",
    "(featureMean, featureStd) = GaussianNormalisation(trainingData)"
   ]
  },
  {
   "cell_type": "markdown",
   "id": "executed-excuse",
   "metadata": {},
   "source": [
    "2. Train Logistic Regression on the normalised training dataset. Use learningRate=0.1 and maxIter=10. Output the bias term and the weight vector of the trained model."
   ]
  },
  {
   "cell_type": "code",
   "execution_count": 13,
   "id": "mobile-consensus",
   "metadata": {},
   "outputs": [
    {
     "name": "stdout",
     "output_type": "stream",
     "text": [
      "Bias term:  -3.713327771293792289 \n",
      "Weight vector:  [ 0.26449472 -0.37943566  0.31332628  1.08894543  0.16898046  0.86758278\n",
      "  0.96146412  0.48829645  0.07179314  0.09879491  0.04831041  0.05591818\n",
      "  0.30279669 -0.14512708  0.48177015  1.10892931  0.53849794  0.34400421\n",
      "  0.64148233 -0.04365394  0.06600537  1.93998242  0.72277151  1.65756034\n",
      " -4.2426971  -0.92111694 -6.05212535  0.29516656 -1.28347077  0.44909019\n",
      " -2.00706703 -0.03211902 -0.517342   -0.17765313 -1.54730298  0.34789046\n",
      " -0.21829777  0.29026295 -0.03737028  0.12137363 -3.14851923 -2.00371221\n",
      " -0.05750017 -1.32883656 -0.73536286 -1.17041856 -0.36395977 -1.49418548\n",
      "  0.2588058   0.32725688  0.53060392  0.93535997  2.24809407  1.12636468\n",
      "  0.46507143  1.05492443  0.51629748]\n"
     ]
    }
   ],
   "source": [
    "#Train Logistic Regression classifier on the normalised training data\n",
    "(b,W) = logisticRegression(trainingData, trainingLabels, 0.1, 10)\n",
    "print(\"Bias term: \", b, \"\\nWeight vector: \", W) "
   ]
  },
  {
   "cell_type": "markdown",
   "id": "russian-reference",
   "metadata": {},
   "source": [
    "3. Normalise the test dataset using Means and Standard Deviations of the features *computed on the training dataset*."
   ]
  },
  {
   "cell_type": "code",
   "execution_count": 14,
   "id": "leading-criterion",
   "metadata": {},
   "outputs": [],
   "source": [
    "def normalise(dataset, featureMean, featureStd):\n",
    "    #Compute the number of features\n",
    "    numFeatures = len(dataset[0])\n",
    "    \n",
    "    #For every feature\n",
    "    for i in range(numFeatures):\n",
    "        #Apply Gaussian Noramlisation with given Mean and Std values\n",
    "        dataset[:,i] = (dataset[:,i] - featureMean[i])/featureStd[i]"
   ]
  },
  {
   "cell_type": "code",
   "execution_count": 15,
   "id": "engaged-sheffield",
   "metadata": {},
   "outputs": [],
   "source": [
    "#normalize the test dataset using Means and Std computed on the training dataset\n",
    "normalise(testData, featureMean, featureStd)"
   ]
  },
  {
   "cell_type": "markdown",
   "id": "signed-constant",
   "metadata": {},
   "source": [
    "4. Use the model trained on the normalised training dataset to classify objects in the normalised test dataset. Output an evaluation report (accuracy, precision, recall, F-score)."
   ]
  },
  {
   "cell_type": "code",
   "execution_count": 16,
   "id": "photographic-enough",
   "metadata": {},
   "outputs": [
    {
     "name": "stdout",
     "output_type": "stream",
     "text": [
      "Evaluation report\n",
      "Accuracy: 0.89\n",
      "Precision: 0.85\n",
      "Recall: 0.88\n",
      "F-score: 0.86\n"
     ]
    }
   ],
   "source": [
    "#Predict class labels of test objects for the normalized test dataset\n",
    "classPred = np.array([int(logisticRegressionTest(b,W,X)[0]) for X in testData], dtype=int)\n",
    "evaluationReport(classTrue, classPred)"
   ]
  },
  {
   "cell_type": "markdown",
   "id": "ancient-syndication",
   "metadata": {},
   "source": [
    "5. Compare the quality of the classifier with normalisation and without normalisation"
   ]
  }
 ],
 "metadata": {
  "kernelspec": {
   "display_name": "Python 3",
   "language": "python",
   "name": "python3"
  },
  "language_info": {
   "codemirror_mode": {
    "name": "ipython",
    "version": 3
   },
   "file_extension": ".py",
   "mimetype": "text/x-python",
   "name": "python",
   "nbconvert_exporter": "python",
   "pygments_lexer": "ipython3",
   "version": "3.10.11"
  }
 },
 "nbformat": 4,
 "nbformat_minor": 5
}
