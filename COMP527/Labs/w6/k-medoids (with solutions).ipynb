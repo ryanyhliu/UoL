{
 "cells": [
  {
   "cell_type": "markdown",
   "id": "historical-character",
   "metadata": {},
   "source": [
    "# Clustering: k-Medoids"
   ]
  },
  {
   "cell_type": "markdown",
   "id": "multiple-thailand",
   "metadata": {
    "tags": []
   },
   "source": [
    "In this lab tasks we implement k-Medoids algorithm."
   ]
  },
  {
   "cell_type": "code",
   "execution_count": null,
   "id": "elegant-science",
   "metadata": {},
   "outputs": [],
   "source": [
    "import numpy as np\n",
    "import matplotlib.pyplot as plt"
   ]
  },
  {
   "cell_type": "markdown",
   "id": "apparent-resident",
   "metadata": {},
   "source": [
    "We start with generating synthetic dataset consisting of four clusters."
   ]
  },
  {
   "cell_type": "code",
   "execution_count": null,
   "id": "modified-trail",
   "metadata": {
    "tags": []
   },
   "outputs": [],
   "source": [
    "N = 100\n",
    "\n",
    "#Generate dataset\n",
    "np.random.seed(844)\n",
    "clust1 = np.random.normal(5, 2, (N,2))\n",
    "clust2 = np.random.normal(15, 2, (N,2))\n",
    "clust3 = np.random.multivariate_normal([17,3], [[1,0],[0,1]], N)\n",
    "clust4 = np.random.multivariate_normal([2,16], [[1,0],[0,1]], N)\n",
    "dataset = np.concatenate((clust1, clust2, clust3, clust4))\n",
    "\n",
    "#Create an array that stores cluster IDs of every object in our dataset\n",
    "#We will use the index of a medoid as a cluster ID\n",
    "clusters = np.zeros((len(dataset),1))"
   ]
  },
  {
   "cell_type": "code",
   "execution_count": null,
   "id": "applicable-stylus",
   "metadata": {},
   "outputs": [],
   "source": [
    "def cluster_plots(dataset, medoidInd=[], colours = 'gray', title = 'Dataset'):\n",
    "    fig,ax = plt.subplots()\n",
    "    fig.set_size_inches(12, 12)\n",
    "    ax.set_title(title,fontsize=14)\n",
    "    ax.set_xlim(min(dataset[:,0]), max(dataset[:,0]))\n",
    "    ax.set_ylim(min(dataset[:,1]), max(dataset[:,1]))\n",
    "    ax.scatter(dataset[:, 0], dataset[:, 1],s=8,lw=1,c= colours)\n",
    "\n",
    "    #Plot medoids if they are given\n",
    "    if len(medoidInd) > 0:\n",
    "        ax.scatter(dataset[medoidInd, 0], dataset[medoidInd, 1],s=8,lw=6,c='red')\n",
    "    fig.tight_layout()\n",
    "    plt.show()"
   ]
  },
  {
   "cell_type": "markdown",
   "id": "liberal-integration",
   "metadata": {},
   "source": [
    "Let's plot our dataset"
   ]
  },
  {
   "cell_type": "code",
   "execution_count": null,
   "id": "mexican-playback",
   "metadata": {},
   "outputs": [],
   "source": [
    "cluster_plots(dataset, colours=clusters, title='Unclustered data')"
   ]
  },
  {
   "cell_type": "markdown",
   "id": "pediatric-republican",
   "metadata": {},
   "source": [
    "## Exercise 1"
   ]
  },
  {
   "cell_type": "markdown",
   "id": "afraid-contest",
   "metadata": {},
   "source": [
    "Implement k-medoids algorithm. Use the Euclidean distance as the dissimilarity measure."
   ]
  },
  {
   "cell_type": "code",
   "execution_count": null,
   "id": "viral-mount",
   "metadata": {
    "tags": []
   },
   "outputs": [],
   "source": [
    "def distance(X,Y):\n",
    "    #Return the Euclidean distance between X and Y\n",
    "    return np.linalg.norm(X-Y)"
   ]
  },
  {
   "cell_type": "code",
   "execution_count": null,
   "id": "labeled-diameter",
   "metadata": {},
   "outputs": [],
   "source": [
    "#Given dataset and indices of medoids, the function updates the clusters of the objects in the dataset\n",
    "def assign(medoidsInd, dataset, clusters):\n",
    "    numOfObjects = len(dataset)\n",
    "    k = len(medoidsInd)\n",
    "    \n",
    "    #for every object in the dataset\n",
    "    for i in range(numOfObjects):\n",
    "        X = dataset[i]\n",
    "        #find the closest medoid\n",
    "        medoidIndOfX = -1;\n",
    "        distanceToClosestMedoid = np.Inf;\n",
    "        for index in medoidsInd:\n",
    "            currentMedoid = dataset[index]\n",
    "            dist = distance(X, currentMedoid)\n",
    "            if dist < distanceToClosestMedoid:\n",
    "                #Found closer medoid. Store information about it\n",
    "                distanceToClosestMedoid = dist\n",
    "                medoidIndOfX = index\n",
    "        #assign to X its closest medoid\n",
    "        clusters[i] = int(medoidIndOfX)"
   ]
  },
  {
   "cell_type": "code",
   "execution_count": null,
   "id": "reserved-balloon",
   "metadata": {},
   "outputs": [],
   "source": [
    "#Compute the objective fuction for the given dataset and the set of medoids\n",
    "def objectiveFunc(medoidsInd, dataset):\n",
    "    numOfObjects = len(dataset)\n",
    "    \n",
    "    clusters = np.zeros((len(dataset),1))\n",
    "    \n",
    "    #assign objects to closest medoids\n",
    "    assign(medoidsInd, dataset, clusters)\n",
    "    \n",
    "    #compute the objective function: the total sum of distances from objects to their medoids\n",
    "    obj = 0\n",
    "    for i in range(numOfObjects):\n",
    "        obj = obj + distance(dataset[i,:-1], dataset[int(clusters[i]),:-1])\n",
    "    \n",
    "    return obj"
   ]
  },
  {
   "cell_type": "code",
   "execution_count": null,
   "id": "accomplished-namibia",
   "metadata": {
    "tags": []
   },
   "outputs": [],
   "source": [
    "def kMedoids(k, dataset, clusters, maxIter=10):\n",
    "    numOfObjects = len(dataset)\n",
    "    \n",
    "    ###Initialisation phase\n",
    "    #Generate indices for initial medoids\n",
    "    np.random.seed(45)\n",
    "    medoidsInd = np.random.choice(numOfObjects, k, replace=False)\n",
    "\n",
    "    #Make initial assignment of objects to the clusters\n",
    "    assign(medoidsInd, dataset,clusters)\n",
    "    \n",
    "    #plot initial assignment\n",
    "    cluster_plots(dataset, medoidsInd, clusters, title='Initial cluster assignment')\n",
    "    \n",
    "    ###Optimisation+Initialisation phases\n",
    "    #Create temporary arrays with cluster and medoid indices for optimisation purposes\n",
    "    tempClusters = np.copy(clusters)\n",
    "    tempMedoidsInd = np.copy(medoidsInd)\n",
    "    bestObjective = objectiveFunc(tempMedoidsInd, dataset)\n",
    "    print('Initial objective function: %.2f' % bestObjective, ';    Initial medoid indices: ', medoidsInd)\n",
    "    isObjectiveImproved = False\n",
    "\n",
    "    \n",
    "    for i in range(maxIter):\n",
    "        isObjectiveImproved = False\n",
    "        bestPair = np.zeros(2)\n",
    "        #for each pair of (x,Y) where Y is a medoid and X is a non-medoid object from the dataset\n",
    "        for y in range(k):\n",
    "            for x in range(numOfObjects):\n",
    "                if not x in tempMedoidsInd:\n",
    "                    #put X into the set of medoids and instead of Y\n",
    "                    tempMedoidsInd[y] = x\n",
    "                    #and compute the value of the objective function for the new set of medoids\n",
    "                    tempObjective = objectiveFunc(tempMedoidsInd, dataset)\n",
    "                    #if the objective improved\n",
    "                    if tempObjective < bestObjective:\n",
    "                        #then update current best pair (X,Y) and current best objective\n",
    "                        isObjectiveImproved = True\n",
    "                        bestPair[0] = int(x);\n",
    "                        bestPair[1] = int(y);\n",
    "                        bestObjective = tempObjective\n",
    "                    tempMedoidsInd[y] = medoidsInd[y]\n",
    "        #If the objectvie function has improved in the current iteration, then\n",
    "        if isObjectiveImproved:\n",
    "            #update the set of medoids according to the best pair (X,Y)\n",
    "            medoidsInd[int(bestPair[1])] = bestPair[0];\n",
    "            #reassign objects to new medoids\n",
    "            assign(medoidsInd, dataset, clusters)\n",
    "            bestObjective = objectiveFunc(medoidsInd, dataset)\n",
    "            #and plot the current clustering\n",
    "            cluster_plots(dataset, medoidsInd, clusters, title='Clustering improvement')\n",
    "            print('Objective function: %.2f' % bestObjective, ';    Medoid indices: ', medoidsInd)\n",
    "        else:\n",
    "            #otherwise stop clustering (we reached a local optimum)\n",
    "            break"
   ]
  },
  {
   "cell_type": "markdown",
   "id": "treated-strap",
   "metadata": {
    "tags": []
   },
   "source": [
    "## Exercise 2"
   ]
  },
  {
   "cell_type": "markdown",
   "id": "underlying-stylus",
   "metadata": {
    "tags": []
   },
   "source": [
    "1. Apply the implemented k-medoids algorithm to the generated dataset with the parameter k=4.\n",
    "2. For every iteration of the algorithm  \n",
    "    - output the current value of the objective function\n",
    "    - output the indices of the current medoid objects\n",
    "    - plot the clustering together with medoids"
   ]
  },
  {
   "cell_type": "code",
   "execution_count": null,
   "id": "isolated-locator",
   "metadata": {},
   "outputs": [],
   "source": [
    "kMedoids(4,dataset,clusters)"
   ]
  }
 ],
 "metadata": {
  "kernelspec": {
   "display_name": "Python 3",
   "language": "python",
   "name": "python3"
  },
  "language_info": {
   "codemirror_mode": {
    "name": "ipython",
    "version": 3
   },
   "file_extension": ".py",
   "mimetype": "text/x-python",
   "name": "python",
   "nbconvert_exporter": "python",
   "pygments_lexer": "ipython3",
   "version": "3.10.11"
  }
 },
 "nbformat": 4,
 "nbformat_minor": 5
}
