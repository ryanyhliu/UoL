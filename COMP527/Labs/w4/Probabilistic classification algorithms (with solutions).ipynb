{
 "cells": [
  {
   "cell_type": "markdown",
   "metadata": {},
   "source": [
    "# Probabilistic classification algorithms"
   ]
  },
  {
   "cell_type": "markdown",
   "metadata": {},
   "source": [
    "In this tutorial we will implement a Naive Bayes classifier for text classification. More specifically, the aim of the classifier is to predict whether a given product review is positive or negative.\n",
    "\n",
    "We will represent documents (i.e. product reviews) as vectors of binary features. For each [unigram or bigram](https://en.wikipedia.org/wiki/N-gram) that appears in at least one document in our training dataset we introduce a binary feature. For a given document a feature is 1 if the documents contains the corresponding unigram/bigram, and it is 0 otherwise.\n",
    "\n",
    "The datasets are contained in four files ('test.negative', 'test.positive', 'train.negative', 'train.positive'). The files correspond to product reviews from the test and train datasets labelled positively or negatively. For example, the file 'test.negative' contains negative product reviews from the test dataset.\n",
    "\n",
    "The reviews are preprocessed and expressed as a list of unigrams and bigrams without duplications (for a bigram (w1,w2), the corresponding record is w1__w2). Each review is represented as a single line and features (unigrams and bigrams) extracted from that review are listed space delimited. Take a moment to inspect the content of the dataset files."
   ]
  },
  {
   "cell_type": "code",
   "execution_count": 1,
   "metadata": {},
   "outputs": [],
   "source": [
    "import numpy as np"
   ]
  },
  {
   "cell_type": "markdown",
   "metadata": {},
   "source": [
    "1. First, we read the training data, compute feature statistics, and store it in a [dictionary](https://docs.python.org/3/tutorial/datastructures.html#dictionaries) $\\texttt{featureStat}$, where $\\texttt{featureStat[feature][classLabel]}$ is equal to the number of documents in the class $\\texttt{classLabel}$ that contain $\\texttt{feature}$. We also compute the total number of positive train instances and the total number of negative train instances."
   ]
  },
  {
   "cell_type": "code",
   "execution_count": 2,
   "metadata": {},
   "outputs": [],
   "source": [
    "def count(featureStat, fname, classLabel):\n",
    "    numInstances = 0\n",
    "    with open(fname) as file:\n",
    "        for line in file:\n",
    "            numInstances += 1\n",
    "            for feature in line.strip().split():\n",
    "                if feature not in featureStat:\n",
    "                    featureStat[feature] = {0:0, 1:0}\n",
    "                featureStat[feature][classLabel] += 1\n",
    "    return numInstances"
   ]
  },
  {
   "cell_type": "code",
   "execution_count": 3,
   "metadata": {},
   "outputs": [],
   "source": [
    "featureStat = {}\n",
    "numPositiveInstances = count(featureStat, \"train.positive\", 1)\n",
    "numNegativeInstances = count(featureStat, \"train.negative\", 0)"
   ]
  },
  {
   "cell_type": "markdown",
   "metadata": {},
   "source": [
    "2. Now, compute the conditional probabilities $P(w_i = 1 | C = c)$, i.e. probability of specific feature $w_i$ to be present in a document from class $c$. Use Laplace smooting to avoid zero probabilities."
   ]
  },
  {
   "cell_type": "code",
   "execution_count": 4,
   "metadata": {},
   "outputs": [],
   "source": [
    "def laplace_smoothing(featureStat, pos_total, neg_total):\n",
    "    conditionalProb = {}\n",
    "    for feature in featureStat:\n",
    "        conditionalProb[feature] = {0:0, 1:0} \n",
    "        \n",
    "        # compute smoothed conditional probability of P(feature=1 | C = positive)\n",
    "        conditionalProb[feature][1] = (featureStat[feature][1]+1)/(pos_total+2)\n",
    "        \n",
    "        # compute smoothed conditional probability of P(feature=1 | C=negative)\n",
    "        conditionalProb[feature][0] = (featureStat[feature][0]+1)/(neg_total+2)\n",
    "        \n",
    "    return conditionalProb"
   ]
  },
  {
   "cell_type": "code",
   "execution_count": 5,
   "metadata": {},
   "outputs": [],
   "source": [
    "# Compute Laplace smoothed conditional probabilities P(feat | classLabel) \n",
    "conditionalProb = laplace_smoothing(featureStat, numPositiveInstances, numNegativeInstances)"
   ]
  },
  {
   "cell_type": "markdown",
   "metadata": {},
   "source": [
    "3. Implement a Naive Bayes classfier function that predicts whether a given document belongs to the positive or the negative class. To avoid problems of very small numbers, instead of computing $P(C=c) \\cdot \\prod_i P(w_i = a_i| C=c)$ cosider computing the $\\log$ of that."
   ]
  },
  {
   "cell_type": "code",
   "execution_count": 6,
   "metadata": {},
   "outputs": [],
   "source": [
    "def naive_bayes_predict(conditionalProb, document, pos_total, neg_total):\n",
    "    # Compute log of prior class probabilities\n",
    "    pos_prior = np.log(pos_total/(pos_total + neg_total))\n",
    "    neg_prior = np.log(neg_total/(pos_total + neg_total))\n",
    "    \n",
    "    # Compute log of likelihood P(document | C) for both positive and negative classes\n",
    "    pos_likelihood = neg_likelihood = 0\n",
    "\n",
    "    for feature in conditionalProb:\n",
    "        if feature in document:\n",
    "            pos_likelihood += np.log(conditionalProb[feature][1])\n",
    "            neg_likelihood += np.log(conditionalProb[feature][0])\n",
    "        else:\n",
    "            pos_likelihood += np.log(1 - conditionalProb[feature][1])\n",
    "            neg_likelihood += np.log(1 - conditionalProb[feature][0])           \n",
    "            \n",
    "    # Compute log of posterior\n",
    "    pos_posterior = pos_prior + pos_likelihood\n",
    "    neg_posterior = neg_prior + neg_likelihood\n",
    "\n",
    "    return 1 if pos_posterior > neg_posterior else 0"
   ]
  },
  {
   "cell_type": "markdown",
   "metadata": {},
   "source": [
    "4. Let's now read the test dataset from the files"
   ]
  },
  {
   "cell_type": "code",
   "execution_count": 7,
   "metadata": {},
   "outputs": [],
   "source": [
    "def getInstances(fname, classLabel):\n",
    "    data = []\n",
    "    with open(fname) as file:\n",
    "        for line in file:\n",
    "            data.append((classLabel, line.strip().split()))\n",
    "    return data\n",
    "\n",
    "# Read test data\n",
    "test_data = getInstances(\"test.positive\", 1)\n",
    "test_data.extend(getInstances(\"test.negative\", 0))"
   ]
  },
  {
   "cell_type": "markdown",
   "metadata": {},
   "source": [
    "4. Evaluate accuracy of the Naive Bayes algorithm on the test data"
   ]
  },
  {
   "cell_type": "code",
   "execution_count": 8,
   "metadata": {},
   "outputs": [
    {
     "name": "stdout",
     "output_type": "stream",
     "text": [
      "Accuracy = 0.8190954773869347\n"
     ]
    }
   ],
   "source": [
    "# Compute and output accuracy    \n",
    "corrects = 0\n",
    "for (classLabel, document) in test_data:\n",
    "    if classLabel == naive_bayes_predict(conditionalProb, document, numPositiveInstances, numNegativeInstances):\n",
    "        corrects += 1\n",
    "print(\"Accuracy =\", float(corrects) / float(len(test_data)))"
   ]
  },
  {
   "cell_type": "markdown",
   "metadata": {},
   "source": [
    "5. Modify the code and see what happens if we do not use Laplace smoothing"
   ]
  }
 ],
 "metadata": {
  "kernelspec": {
   "display_name": "Python 3",
   "language": "python",
   "name": "python3"
  },
  "language_info": {
   "codemirror_mode": {
    "name": "ipython",
    "version": 3
   },
   "file_extension": ".py",
   "mimetype": "text/x-python",
   "name": "python",
   "nbconvert_exporter": "python",
   "pygments_lexer": "ipython3",
   "version": "3.10.11"
  }
 },
 "nbformat": 4,
 "nbformat_minor": 4
}
