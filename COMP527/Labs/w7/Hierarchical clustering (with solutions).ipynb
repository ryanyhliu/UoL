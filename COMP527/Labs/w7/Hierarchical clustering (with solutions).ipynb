{
 "cells": [
  {
   "cell_type": "markdown",
   "id": "finnish-gabriel",
   "metadata": {},
   "source": [
    "# Hierarchical clustering"
   ]
  },
  {
   "cell_type": "markdown",
   "id": "institutional-personality",
   "metadata": {},
   "source": [
    "In this lab we will implement hierarchical agglomerative clustering algorithms and apply them to **[Mall Customers dataset](https://www.kaggle.com/sivaram1987/mall-customers)** from Kaggle in order to find the best clustering of the customers.\n",
    "\n",
    "The dataset contains records about 200 customers. For each customer there are 5 features:\n",
    "1. CustomerID\n",
    "2. Gender\n",
    "3. Age\n",
    "4. Annual Income\n",
    "5. Spending Score\n",
    "\n",
    "In our analysis we will use only the latter two features, i.e. **Annual Income** and **Spending Score**."
   ]
  },
  {
   "cell_type": "code",
   "execution_count": null,
   "id": "fatty-genome",
   "metadata": {},
   "outputs": [],
   "source": [
    "import numpy as np\n",
    "import matplotlib.pyplot as plt\n",
    "import math"
   ]
  },
  {
   "cell_type": "markdown",
   "id": "defined-approach",
   "metadata": {},
   "source": [
    "We first prepare the dataset by reading from the file for every customer only the two features of interest."
   ]
  },
  {
   "cell_type": "code",
   "execution_count": null,
   "id": "stock-repair",
   "metadata": {},
   "outputs": [],
   "source": [
    "def load_data(fname):\n",
    "    features = []\n",
    "    \n",
    "    with open(fname) as F:\n",
    "        next(F) # skip the first line with feature names\n",
    "        for line in F:\n",
    "            p = line.strip().split(',')\n",
    "            features.append(np.array(p[3:5], int))\n",
    "    return np.array(features)"
   ]
  },
  {
   "cell_type": "code",
   "execution_count": null,
   "id": "pending-taiwan",
   "metadata": {},
   "outputs": [],
   "source": [
    "dataset = load_data(\"mall.csv\")\n",
    "\n",
    "#print(dataset)"
   ]
  },
  {
   "cell_type": "markdown",
   "id": "terminal-ranking",
   "metadata": {},
   "source": [
    "# Exercise 1\n",
    "\n",
    "1. Implement single-linkage agglomerative clustering\n",
    "2. Implement complete-linkage agglomerative clustering\n",
    "3. Implement group-average linkage agglomerative clustering\n",
    "\n",
    "In each of the algorithms use the Euclidean distance as a dissimilarity measure between objects."
   ]
  },
  {
   "cell_type": "code",
   "execution_count": null,
   "id": "cross-andorra",
   "metadata": {
    "tags": []
   },
   "outputs": [],
   "source": [
    "def Euclidean(x, y):\n",
    "    # Compute the Euclidean distance between x and y\n",
    "    return np.linalg.norm(x - y) "
   ]
  },
  {
   "cell_type": "code",
   "execution_count": null,
   "id": "hundred-march",
   "metadata": {
    "tags": []
   },
   "outputs": [],
   "source": [
    "# Computes distances matrix for a given dataset and a disntace function \n",
    "def distanceMatrix(dataset, dist=Euclidean):\n",
    "    # Compute the number of objects in the dataset\n",
    "    N = len(dataset)\n",
    "    \n",
    "    # Distance matrix\n",
    "    distMatrix = np.zeros((N, N))\n",
    "    # Compute pairwise distances between the objects\n",
    "    for i in range(N):\n",
    "        for j in range (N):\n",
    "            # Distance is symmetric, so compute the distances between i and j only once\n",
    "            if i < j:\n",
    "                distMatrix[i][j] = dist(dataset[i], dataset[j])\n",
    "                distMatrix[j][i] = distMatrix[i][j]\n",
    "            \n",
    "    return distMatrix"
   ]
  },
  {
   "cell_type": "code",
   "execution_count": null,
   "id": "unlimited-privilege",
   "metadata": {},
   "outputs": [],
   "source": [
    "# Computes single-linkage distance between two clusters\n",
    "def singleLinkageDistance(distMatrix, cluster_i, cluster_j):    \n",
    "    # single-linkage clustering\n",
    "    return np.min(distMatrix[cluster_i][:,cluster_j])"
   ]
  },
  {
   "cell_type": "code",
   "execution_count": null,
   "id": "contemporary-whole",
   "metadata": {},
   "outputs": [],
   "source": [
    "# Computes complete-linkage distance between two clusters\n",
    "def completeLinkageDistance(distMatrix, cluster_i, cluster_j):    \n",
    "    # complete-linkage clustering\n",
    "    return np.max(distMatrix[cluster_i][:,cluster_j])"
   ]
  },
  {
   "cell_type": "code",
   "execution_count": null,
   "id": "political-particular",
   "metadata": {},
   "outputs": [],
   "source": [
    "# Computes group-average linkage distance between two clusters\n",
    "def groupAverageLinkageDistance(distMatrix, cluster_i, cluster_j):    \n",
    "    # group-average linkage clustering\n",
    "    return np.sum(distMatrix[cluster_i][:,cluster_j])/(len(cluster_i)*len(cluster_j))"
   ]
  },
  {
   "cell_type": "code",
   "execution_count": null,
   "id": "loving-comfort",
   "metadata": {},
   "outputs": [],
   "source": [
    "# Find a pair of clusters that are closest to each other with respect to a given cluster distance\n",
    "def closestClusters(dataset, clusters, distMatrix, clusterDistance=singleLinkageDistance):\n",
    "    # distance between the closest clusters\n",
    "    minClusterDist = math.inf\n",
    "    # indices of the closest clusters\n",
    "    a = -1\n",
    "    b = -1\n",
    "    \n",
    "    # Compute pairwise distances between the clusters\n",
    "    for (i, cluster_i) in enumerate(clusters):\n",
    "        for (j, cluster_j) in enumerate(clusters):\n",
    "            if cluster_j > cluster_i:\n",
    "                clusterDist = clusterDistance(distMatrix, cluster_i, cluster_j) \n",
    "                if clusterDist < minClusterDist:\n",
    "                    # Found a closer pair of clusters: store the information about this pair of clusters\n",
    "                    minClusterDist = clusterDist\n",
    "                    a = i\n",
    "                    b = j\n",
    "    return (a,b)"
   ]
  },
  {
   "cell_type": "code",
   "execution_count": null,
   "id": "searching-graham",
   "metadata": {},
   "outputs": [],
   "source": [
    "# Computes hierarchy of clusterings for the given dataset with the given distance matrix \n",
    "# using clusterDistance as a distance between clusters \n",
    "def hcluser(dataset, distMatrix, clusterDistance=singleLinkageDistance):   \n",
    "    # Compute the number of objects in the dataset\n",
    "    N = len(dataset)\n",
    "    \n",
    "    # Create initial clustering consisting of singletons\n",
    "    clusters = [[i] for i in range(N)]\n",
    "    \n",
    "    # Store hierarchy of clusterings in a dictionary\n",
    "    # Key is the number of clusters, Value is the corresponding clustering\n",
    "    hierarchyOfClusterings = {}\n",
    "    hierarchyOfClusterings[N] = clusters\n",
    "    \n",
    "    # Compute clustering for each number of clusters from N-1 to 1 using single-linkage clustering rule\n",
    "    for numClusters in range(N-1, 0, -1):\n",
    "        # Find a pair of closest clusters\n",
    "        (a,b) = closestClusters(dataset, clusters, distMatrix, clusterDistance)\n",
    "        # Create a new cluster by merging the two clusters\n",
    "        mergedCluster = clusters[a] + clusters[b]     \n",
    "        # remove from the list the two clusters\n",
    "        clusters = [clustering for (index, clustering) in enumerate(clusters) if index not in [a,b]]\n",
    "        # and add to the list the new cluster\n",
    "        clusters.append(mergedCluster)\n",
    "        \n",
    "        # Add new clustering to the hierarchy of clusterings\n",
    "        hierarchyOfClusterings[numClusters] = clusters\n",
    "    \n",
    "    return hierarchyOfClusterings\n",
    "    "
   ]
  },
  {
   "cell_type": "markdown",
   "id": "suburban-creature",
   "metadata": {},
   "source": [
    "# Exercise 2"
   ]
  },
  {
   "cell_type": "markdown",
   "id": "numerical-original",
   "metadata": {},
   "source": [
    "1. Cluster **Mall Customers** dataset using the implemented single-linkage agglomerative clustering"
   ]
  },
  {
   "cell_type": "code",
   "execution_count": null,
   "id": "bizarre-consciousness",
   "metadata": {
    "tags": []
   },
   "outputs": [],
   "source": [
    "# Compute distance matrix\n",
    "distMatrix = distanceMatrix(dataset)\n",
    "\n",
    "# Compute single-linkage clustering\n",
    "singleLinkageHierarchyOfClusterings = hcluser(dataset, distMatrix, clusterDistance=singleLinkageDistance)"
   ]
  },
  {
   "cell_type": "markdown",
   "id": "central-robert",
   "metadata": {},
   "source": [
    "2. Cluster **Mall Customers** dataset using the implemented complete-linkage agglomerative clustering"
   ]
  },
  {
   "cell_type": "code",
   "execution_count": null,
   "id": "driven-suicide",
   "metadata": {},
   "outputs": [],
   "source": [
    "# Compute complete-linkage clustering\n",
    "completeLinkageHierarchyOfClusterings = hcluser(dataset, distMatrix, clusterDistance=completeLinkageDistance)"
   ]
  },
  {
   "cell_type": "markdown",
   "id": "original-glossary",
   "metadata": {},
   "source": [
    "3. Cluster **Mall Customers** dataset using the implemented group-average linkage agglomerative clustering"
   ]
  },
  {
   "cell_type": "code",
   "execution_count": null,
   "id": "eight-genetics",
   "metadata": {},
   "outputs": [],
   "source": [
    "# Compute group-average linkage clustering\n",
    "groupAverageLinkageHierarchyOfClusterings = hcluser(dataset, distMatrix, clusterDistance=groupAverageLinkageDistance)"
   ]
  },
  {
   "cell_type": "markdown",
   "id": "stone-annual",
   "metadata": {},
   "source": [
    "# Exercise 3\n",
    "\n",
    "Implement Silhouette coefficient computation for a clustering"
   ]
  },
  {
   "cell_type": "code",
   "execution_count": null,
   "id": "religious-convert",
   "metadata": {},
   "outputs": [],
   "source": [
    "# Computes Silhouette Coefficient for every object in the dataset with respect to the given clustering and distance matrix\n",
    "def silhouetteCoefficient(dataset, clusters, distMatrix):\n",
    "    # Compute the number of objects in the dataset\n",
    "    N = len(dataset)\n",
    "    \n",
    "    silhouette = [0 for i in range(N)]\n",
    "    a = [0 for i in range(N)]\n",
    "    b = [math.inf for i in range(N)]\n",
    "    \n",
    "    for (i, obj) in enumerate(dataset):\n",
    "        for (cluster_id, cluster) in enumerate(clusters):\n",
    "            clusterSize = len(cluster)\n",
    "            if i in cluster:\n",
    "                # compute a(obj)\n",
    "                if clusterSize > 1:\n",
    "                    a[i] = np.sum(distMatrix[i][cluster])/(clusterSize-1)\n",
    "                else:\n",
    "                    a[i] = 0\n",
    "            else:\n",
    "                # compute b(obj)\n",
    "                tempb = np.sum(distMatrix[i][cluster])/clusterSize\n",
    "                if tempb < b[i]: \n",
    "                    b[i] = tempb\n",
    "                \n",
    "    for i in range(N):\n",
    "        silhouette[i] = 0 if a[i] == 0 else (b[i]-a[i])/np.max([a[i], b[i]])\n",
    "    \n",
    "    return silhouette"
   ]
  },
  {
   "cell_type": "code",
   "execution_count": null,
   "id": "dominant-monte",
   "metadata": {
    "tags": []
   },
   "outputs": [],
   "source": [
    "# Computes Silhouette Coefficient for the dataset with respect to the given clustering and distance matrix\n",
    "def silhouette(dataset, clusters, distMatrix):\n",
    "    return np.mean(silhouetteCoefficient(dataset, clusters, distMatrix))"
   ]
  },
  {
   "cell_type": "markdown",
   "id": "trained-negotiation",
   "metadata": {},
   "source": [
    "# Exercise 4\n",
    "\n",
    "1. For each of the hierarchy of clusterings computed in Exercise 2: \n",
    "    - extract clusterings with the number of clusters k=2,3,4,...,20\n",
    "    - for each of the extracted clusterings compute Silhouette coefficient and plot the values on a single plot"
   ]
  },
  {
   "cell_type": "code",
   "execution_count": null,
   "id": "passive-trout",
   "metadata": {},
   "outputs": [],
   "source": [
    "# Plot Silhouette coefficients for different clusterings\n",
    "def plotSilhouette(dataset, hierarchyOfClusterings, distMatrix, maxNumClusters=20, title=\"\"):\n",
    "    clusteringSilhouette = {}\n",
    "    \n",
    "    for i in range(2,maxNumClusters+1):\n",
    "        clusteringSilhouette[i] = silhouette(dataset, hierarchyOfClusterings[i], distMatrix)\n",
    "    \n",
    "    #print(title, \"Silhouette coefficients for different clusterings\\n\", clusteringSilhouette)\n",
    "\n",
    "    plt.bar(range(len(clusteringSilhouette)), list(clusteringSilhouette.values()), align='center')\n",
    "    plt.xticks(range(len(clusteringSilhouette)), list(clusteringSilhouette.keys()))\n",
    "    plt.title(title, fontsize=16)\n",
    "    plt.xlabel('Number of clusters', fontsize=14)\n",
    "    plt.ylabel('Silhouette coefficient', fontsize=14)\n",
    "    plt.show()\n",
    "    \n",
    "    bestNumClusters = max(clusteringSilhouette, key=clusteringSilhouette.get)\n",
    "    print(\"The best clustering is with %d clusters. The corresponding Silhouette coefficient is %.4f\" % (bestNumClusters, clusteringSilhouette[bestNumClusters]))"
   ]
  },
  {
   "cell_type": "code",
   "execution_count": null,
   "id": "emotional-shade",
   "metadata": {},
   "outputs": [],
   "source": [
    "plotSilhouette(dataset, singleLinkageHierarchyOfClusterings, distMatrix, maxNumClusters=20, title=\"Single-linkage clustering\")"
   ]
  },
  {
   "cell_type": "code",
   "execution_count": null,
   "id": "liberal-cedar",
   "metadata": {},
   "outputs": [],
   "source": [
    "plotSilhouette(dataset, completeLinkageHierarchyOfClusterings, distMatrix, maxNumClusters=20, title=\"Complete-linkage clustering\")"
   ]
  },
  {
   "cell_type": "code",
   "execution_count": null,
   "id": "funky-bernard",
   "metadata": {},
   "outputs": [],
   "source": [
    "plotSilhouette(dataset, groupAverageLinkageHierarchyOfClusterings, distMatrix, maxNumClusters=20, title=\"Group-average linkage clustering\")"
   ]
  },
  {
   "cell_type": "markdown",
   "id": "thick-advice",
   "metadata": {},
   "source": [
    "2. Which algorithm produced the best clustering and what is the number of clusters in this clustering?"
   ]
  },
  {
   "cell_type": "markdown",
   "id": "pointed-aggregate",
   "metadata": {},
   "source": [
    "The highest Silhouette coefficient clustering was produced by the complete-linkage clustering algorithm. The clustering contains 5 clusters."
   ]
  },
  {
   "cell_type": "markdown",
   "id": "worldwide-seafood",
   "metadata": {},
   "source": [
    "# Exercise 5\n",
    "\n",
    "Visualise the best clustering of the dataset from the previous exercise on a single plot by coloring different clusters by different colours."
   ]
  },
  {
   "cell_type": "code",
   "execution_count": null,
   "id": "furnished-pizza",
   "metadata": {},
   "outputs": [],
   "source": [
    "bestClustering = completeLinkageHierarchyOfClusterings[5]\n",
    "\n",
    "cluster1 = bestClustering[0]\n",
    "cluster2 = bestClustering[1]\n",
    "cluster3 = bestClustering[2]\n",
    "cluster4 = bestClustering[3]\n",
    "cluster5 = bestClustering[4]\n",
    "\n",
    "plt.figure(figsize=(8, 6), dpi=300)\n",
    "plt.scatter(dataset[cluster1][:,0], dataset[cluster1][:,1], s = 10, c = 'red', label = 'Cluster 1')\n",
    "plt.scatter(dataset[cluster2][:,0], dataset[cluster2][:,1], s = 10, c = 'blue', label = 'Cluster 2')\n",
    "plt.scatter(dataset[cluster3][:,0], dataset[cluster3][:,1], s = 10, c = 'green', label = 'Cluster 3')\n",
    "plt.scatter(dataset[cluster4][:,0], dataset[cluster4][:,1], s = 10, c = 'orange', label = 'Cluster 4')\n",
    "plt.scatter(dataset[cluster5][:,0], dataset[cluster5][:,1], s = 10, c = 'magenta', label = 'Cluster 5')\n",
    "plt.title('Clusters of customers')\n",
    "plt.xlabel('Annual Income (k$)')\n",
    "plt.ylabel('Spending Score (1-100)')\n",
    "plt.legend()\n",
    "plt.show()"
   ]
  }
 ],
 "metadata": {
  "kernelspec": {
   "display_name": "Python 3",
   "language": "python",
   "name": "python3"
  },
  "language_info": {
   "codemirror_mode": {
    "name": "ipython",
    "version": 3
   },
   "file_extension": ".py",
   "mimetype": "text/x-python",
   "name": "python",
   "nbconvert_exporter": "python",
   "pygments_lexer": "ipython3",
   "version": "3.10.11"
  }
 },
 "nbformat": 4,
 "nbformat_minor": 5
}
