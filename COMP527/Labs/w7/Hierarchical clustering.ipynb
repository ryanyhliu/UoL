{
 "cells": [
  {
   "cell_type": "markdown",
   "id": "hollywood-canadian",
   "metadata": {},
   "source": [
    "# Hierarchical clustering"
   ]
  },
  {
   "cell_type": "markdown",
   "id": "particular-hours",
   "metadata": {},
   "source": [
    "In this lab we will implement hierarchical agglomerative clustering algorithms and apply them to **[Mall Customers dataset](https://www.kaggle.com/sivaram1987/mall-customers)** from Kaggle in order to find the best clustering of the customers.\n",
    "\n",
    "The dataset contains records about 200 customers. For each customer there are 5 features:\n",
    "1. CustomerID\n",
    "2. Gender\n",
    "3. Age\n",
    "4. Annual Income\n",
    "5. Spending Score\n",
    "\n",
    "In our analysis we will use only the latter two features, i.e. **Annual Income** and **Spending Score**."
   ]
  },
  {
   "cell_type": "code",
   "execution_count": 5,
   "id": "final-prince",
   "metadata": {},
   "outputs": [],
   "source": [
    "import numpy as np\n",
    "import matplotlib.pyplot as plt\n",
    "import math"
   ]
  },
  {
   "cell_type": "markdown",
   "id": "nasty-plant",
   "metadata": {},
   "source": [
    "We first prepare the dataset by reading from the file for every customer only the two features of interest."
   ]
  },
  {
   "cell_type": "markdown",
   "id": "3d8fdc52",
   "metadata": {},
   "source": [
    "只取 index 为 3, 4 这两列 特征"
   ]
  },
  {
   "cell_type": "code",
   "execution_count": 6,
   "id": "understood-brain",
   "metadata": {},
   "outputs": [],
   "source": [
    "def load_data(fname):\n",
    "    features = []\n",
    "    \n",
    "    with open(fname) as F:\n",
    "        next(F) # skip the first line with feature names\n",
    "        for line in F:\n",
    "            p = line.strip().split(',')\n",
    "            features.append(np.array(p[3:5], int))\n",
    "    return np.array(features)"
   ]
  },
  {
   "cell_type": "code",
   "execution_count": 7,
   "id": "searching-liabilities",
   "metadata": {},
   "outputs": [
    {
     "name": "stdout",
     "output_type": "stream",
     "text": [
      "[[ 15  39]\n",
      " [ 15  81]\n",
      " [ 16   6]\n",
      " [ 16  77]\n",
      " [ 17  40]\n",
      " [ 17  76]\n",
      " [ 18   6]\n",
      " [ 18  94]\n",
      " [ 19   3]\n",
      " [ 19  72]\n",
      " [ 19  14]\n",
      " [ 19  99]\n",
      " [ 20  15]\n",
      " [ 20  77]\n",
      " [ 20  13]\n",
      " [ 20  79]\n",
      " [ 21  35]\n",
      " [ 21  66]\n",
      " [ 23  29]\n",
      " [ 23  98]\n",
      " [ 24  35]\n",
      " [ 24  73]\n",
      " [ 25   5]\n",
      " [ 25  73]\n",
      " [ 28  14]\n",
      " [ 28  82]\n",
      " [ 28  32]\n",
      " [ 28  61]\n",
      " [ 29  31]\n",
      " [ 29  87]\n",
      " [ 30   4]\n",
      " [ 30  73]\n",
      " [ 33   4]\n",
      " [ 33  92]\n",
      " [ 33  14]\n",
      " [ 33  81]\n",
      " [ 34  17]\n",
      " [ 34  73]\n",
      " [ 37  26]\n",
      " [ 37  75]\n",
      " [ 38  35]\n",
      " [ 38  92]\n",
      " [ 39  36]\n",
      " [ 39  61]\n",
      " [ 39  28]\n",
      " [ 39  65]\n",
      " [ 40  55]\n",
      " [ 40  47]\n",
      " [ 40  42]\n",
      " [ 40  42]\n",
      " [ 42  52]\n",
      " [ 42  60]\n",
      " [ 43  54]\n",
      " [ 43  60]\n",
      " [ 43  45]\n",
      " [ 43  41]\n",
      " [ 44  50]\n",
      " [ 44  46]\n",
      " [ 46  51]\n",
      " [ 46  46]\n",
      " [ 46  56]\n",
      " [ 46  55]\n",
      " [ 47  52]\n",
      " [ 47  59]\n",
      " [ 48  51]\n",
      " [ 48  59]\n",
      " [ 48  50]\n",
      " [ 48  48]\n",
      " [ 48  59]\n",
      " [ 48  47]\n",
      " [ 49  55]\n",
      " [ 49  42]\n",
      " [ 50  49]\n",
      " [ 50  56]\n",
      " [ 54  47]\n",
      " [ 54  54]\n",
      " [ 54  53]\n",
      " [ 54  48]\n",
      " [ 54  52]\n",
      " [ 54  42]\n",
      " [ 54  51]\n",
      " [ 54  55]\n",
      " [ 54  41]\n",
      " [ 54  44]\n",
      " [ 54  57]\n",
      " [ 54  46]\n",
      " [ 57  58]\n",
      " [ 57  55]\n",
      " [ 58  60]\n",
      " [ 58  46]\n",
      " [ 59  55]\n",
      " [ 59  41]\n",
      " [ 60  49]\n",
      " [ 60  40]\n",
      " [ 60  42]\n",
      " [ 60  52]\n",
      " [ 60  47]\n",
      " [ 60  50]\n",
      " [ 61  42]\n",
      " [ 61  49]\n",
      " [ 62  41]\n",
      " [ 62  48]\n",
      " [ 62  59]\n",
      " [ 62  55]\n",
      " [ 62  56]\n",
      " [ 62  42]\n",
      " [ 63  50]\n",
      " [ 63  46]\n",
      " [ 63  43]\n",
      " [ 63  48]\n",
      " [ 63  52]\n",
      " [ 63  54]\n",
      " [ 64  42]\n",
      " [ 64  46]\n",
      " [ 65  48]\n",
      " [ 65  50]\n",
      " [ 65  43]\n",
      " [ 65  59]\n",
      " [ 67  43]\n",
      " [ 67  57]\n",
      " [ 67  56]\n",
      " [ 67  40]\n",
      " [ 69  58]\n",
      " [ 69  91]\n",
      " [ 70  29]\n",
      " [ 70  77]\n",
      " [ 71  35]\n",
      " [ 71  95]\n",
      " [ 71  11]\n",
      " [ 71  75]\n",
      " [ 71   9]\n",
      " [ 71  75]\n",
      " [ 72  34]\n",
      " [ 72  71]\n",
      " [ 73   5]\n",
      " [ 73  88]\n",
      " [ 73   7]\n",
      " [ 73  73]\n",
      " [ 74  10]\n",
      " [ 74  72]\n",
      " [ 75   5]\n",
      " [ 75  93]\n",
      " [ 76  40]\n",
      " [ 76  87]\n",
      " [ 77  12]\n",
      " [ 77  97]\n",
      " [ 77  36]\n",
      " [ 77  74]\n",
      " [ 78  22]\n",
      " [ 78  90]\n",
      " [ 78  17]\n",
      " [ 78  88]\n",
      " [ 78  20]\n",
      " [ 78  76]\n",
      " [ 78  16]\n",
      " [ 78  89]\n",
      " [ 78   1]\n",
      " [ 78  78]\n",
      " [ 78   1]\n",
      " [ 78  73]\n",
      " [ 79  35]\n",
      " [ 79  83]\n",
      " [ 81   5]\n",
      " [ 81  93]\n",
      " [ 85  26]\n",
      " [ 85  75]\n",
      " [ 86  20]\n",
      " [ 86  95]\n",
      " [ 87  27]\n",
      " [ 87  63]\n",
      " [ 87  13]\n",
      " [ 87  75]\n",
      " [ 87  10]\n",
      " [ 87  92]\n",
      " [ 88  13]\n",
      " [ 88  86]\n",
      " [ 88  15]\n",
      " [ 88  69]\n",
      " [ 93  14]\n",
      " [ 93  90]\n",
      " [ 97  32]\n",
      " [ 97  86]\n",
      " [ 98  15]\n",
      " [ 98  88]\n",
      " [ 99  39]\n",
      " [ 99  97]\n",
      " [101  24]\n",
      " [101  68]\n",
      " [103  17]\n",
      " [103  85]\n",
      " [103  23]\n",
      " [103  69]\n",
      " [113   8]\n",
      " [113  91]\n",
      " [120  16]\n",
      " [120  79]\n",
      " [126  28]\n",
      " [126  74]\n",
      " [137  18]\n",
      " [137  83]]\n"
     ]
    }
   ],
   "source": [
    "dataset = load_data(\"mall.csv\")\n",
    "\n",
    "print(dataset)"
   ]
  },
  {
   "cell_type": "markdown",
   "id": "first-tampa",
   "metadata": {},
   "source": [
    "# Exercise 1\n",
    "\n",
    "1. Implement single-linkage agglomerative clustering\n",
    "2. Implement complete-linkage agglomerative clustering\n",
    "3. Implement group-average linkage agglomerative clustering\n",
    "\n",
    "In each of the algorithms use the Euclidean distance as a dissimilarity measure between objects."
   ]
  },
  {
   "cell_type": "code",
   "execution_count": 8,
   "id": "eb69ec66",
   "metadata": {},
   "outputs": [],
   "source": [
    "# 绘制散点图\n",
    "def plot_clusters(clusters):\n",
    "    for cluster in clusters:\n",
    "        cluster = np.array(cluster)\n",
    "        plt.scatter(cluster[:,0], cluster[:,1])\n",
    "    plt.show()"
   ]
  },
  {
   "cell_type": "code",
   "execution_count": 9,
   "id": "metric-doctor",
   "metadata": {},
   "outputs": [],
   "source": [
    "# Implement single-linkage agglomerative clustering\n",
    "def single_linkage_clustering(data, k):\n",
    "    clusters = [[x] for x in data] # 首先, 每个数据点自成一个簇\n",
    "    while len(clusters) > k: # 当簇的数量大于 k 时, 继续合并\n",
    "        min_distance = math.inf # 初始化最小距离为无穷大\n",
    "        min_i = -1\n",
    "        min_j = -1\n",
    "        for i in range(len(clusters)): # 遍历所有簇\n",
    "            for j in range(i+1, len(clusters)): # 遍历所有簇\n",
    "                for x in clusters[i]: # 遍历簇 i 中的所有数据点\n",
    "                    for y in clusters[j]: # 遍历簇 j 中的所有数据点\n",
    "                        distance = np.linalg.norm(x - y) # 计算数据点 x 和 y 之间的距离 (欧氏距离)\n",
    "                        if distance < min_distance: # 如果距离小于当前最小距离\n",
    "                            min_distance = distance\n",
    "                            min_i = i\n",
    "                            min_j = j\n",
    "        clusters[min_i].extend(clusters[min_j]) # 将簇 j 中的所有数据点合并到簇 i 中\n",
    "        del clusters[min_j] # 删除簇 j\n",
    "    return clusters\n",
    "\n"
   ]
  },
  {
   "cell_type": "code",
   "execution_count": 10,
   "id": "987c017b",
   "metadata": {},
   "outputs": [],
   "source": [
    "# Implement complete-linkage agglomerative clustering\n",
    "def complete_linkage_clustering(data, k):\n",
    "    clusters = [[x] for x in data] # 首先, 每个数据点自成一个簇\n",
    "    while len(clusters) > k: # 当簇的数量大于 k 时, 继续合并\n",
    "        max_distance = -math.inf # 初始化最大距离为负无穷大\n",
    "        max_i = -1\n",
    "        max_j = -1\n",
    "        for i in range(len(clusters)): # 遍历所有簇\n",
    "            for j in range(i+1, len(clusters)): # 遍历所有簇\n",
    "                for x in clusters[i]: # 遍历簇 i 中的所有数据点\n",
    "                    for y in clusters[j]: # 遍历簇 j 中的所有数据点\n",
    "                        distance = np.linalg.norm(x - y) # 计算数据点 x 和 y 之间的距离 (欧氏距离)\n",
    "                        if distance > max_distance: # 如果距离大于当前最大距离\n",
    "                            max_distance = distance\n",
    "                            max_i = i\n",
    "                            max_j = j\n",
    "        clusters[max_i].extend(clusters[max_j]) # 将簇 j 中的所有数据点合并到簇 i 中\n",
    "        del clusters[max_j] # 删除簇 j\n",
    "    return clusters\n",
    "\n"
   ]
  },
  {
   "cell_type": "code",
   "execution_count": 11,
   "id": "e41b040c",
   "metadata": {},
   "outputs": [],
   "source": [
    "# Implement group-average linkage agglomerative clustering\n",
    "def group_average_linkage_clustering(data, k):\n",
    "    clusters = [[x] for x in data] # 首先, 每个数据点自成一个簇\n",
    "    while len(clusters) > k: # 当簇的数量大于 k 时, 继续合并\n",
    "        min_distance = math.inf # 初始化最小距离为无穷大\n",
    "        min_i = -1\n",
    "        min_j = -1\n",
    "        for i in range(len(clusters)): # 遍历所有簇\n",
    "            for j in range(i+1, len(clusters)): # 遍历所有簇\n",
    "                distance = 0\n",
    "                for x in clusters[i]: # 遍历簇 i 中的所有数据点\n",
    "                    for y in clusters[j]: # 遍历簇 j 中的所有数据点\n",
    "                        distance += np.linalg.norm(x - y) # 计算数据点 x 和 y 之间的距离 (欧氏距离)\n",
    "                distance /= len(clusters[i]) * len(clusters[j]) # 计算两个簇之间的平均距离\n",
    "                if distance < min_distance: # 如果距离小于当前最小距离\n",
    "                    min_distance = distance\n",
    "                    min_i = i\n",
    "                    min_j = j\n",
    "        clusters[min_i].extend(clusters[min_j]) # 将簇 j 中的所有数据点合并到簇 i 中\n",
    "        del clusters[min_j] # 删除簇 j\n",
    "    return clusters\n",
    "\n"
   ]
  },
  {
   "cell_type": "markdown",
   "id": "separated-chester",
   "metadata": {},
   "source": [
    "# Exercise 2"
   ]
  },
  {
   "cell_type": "markdown",
   "id": "nonprofit-rendering",
   "metadata": {},
   "source": [
    "1. Cluster **Mall Customers** dataset using the implemented single-linkage agglomerative clustering"
   ]
  },
  {
   "cell_type": "code",
   "execution_count": 12,
   "id": "protective-signature",
   "metadata": {
    "tags": []
   },
   "outputs": [
    {
     "data": {
      "image/png": "[encoded data removed]",
      "text/plain": [
       "<Figure size 640x480 with 1 Axes>"
      ]
     },
     "metadata": {},
     "output_type": "display_data"
    }
   ],
   "source": [
    "# 调用 single_linkage_clustering 函数进行聚类\n",
    "clusters = single_linkage_clustering(dataset, 3)\n",
    "\n",
    "# 绘制聚类结果\n",
    "plot_clusters(clusters)"
   ]
  },
  {
   "cell_type": "markdown",
   "id": "protective-helen",
   "metadata": {},
   "source": [
    "2. Cluster **Mall Customers** dataset using the implemented complete-linkage agglomerative clustering"
   ]
  },
  {
   "cell_type": "code",
   "execution_count": 13,
   "id": "detected-speaker",
   "metadata": {},
   "outputs": [
    {
     "data": {
      "image/png": "[encoded data removed]",
      "text/plain": [
       "<Figure size 640x480 with 1 Axes>"
      ]
     },
     "metadata": {},
     "output_type": "display_data"
    }
   ],
   "source": [
    "# 调用 complete_linkage_clustering 函数进行聚类\n",
    "clusters = complete_linkage_clustering(dataset, 5)\n",
    "\n",
    "# 绘制聚类结果\n",
    "plot_clusters(clusters)"
   ]
  },
  {
   "cell_type": "markdown",
   "id": "funded-wilderness",
   "metadata": {},
   "source": [
    "3. Cluster **Mall Customers** dataset using the implemented group-average linkage agglomerative clustering"
   ]
  },
  {
   "cell_type": "code",
   "execution_count": 14,
   "id": "official-session",
   "metadata": {},
   "outputs": [
    {
     "data": {
      "image/png": "[encoded data removed]",
      "text/plain": [
       "<Figure size 640x480 with 1 Axes>"
      ]
     },
     "metadata": {},
     "output_type": "display_data"
    }
   ],
   "source": [
    "# 调用 group_average_linkage_clustering 函数进行聚类\n",
    "clusters = group_average_linkage_clustering(dataset, 5)\n",
    "\n",
    "# 绘制聚类结果\n",
    "plot_clusters(clusters)"
   ]
  },
  {
   "cell_type": "markdown",
   "id": "private-scratch",
   "metadata": {},
   "source": [
    "# Exercise 3\n",
    "\n",
    "Implement Silhouette coefficient computation for a clustering"
   ]
  },
  {
   "cell_type": "code",
   "execution_count": 15,
   "id": "subsequent-jefferson",
   "metadata": {},
   "outputs": [],
   "source": [
    "# Implement Silhouette coefficient computation for a clustering\n",
    "def silhouette_coefficient(clusters):\n",
    "    a = np.zeros(len(clusters))\n",
    "    b = np.zeros(len(clusters))\n",
    "    s = np.zeros(len(clusters))\n",
    "    for i in range(len(clusters)):\n",
    "        for x in clusters[i]:\n",
    "            a[i] += np.linalg.norm(x - np.mean(clusters[i], axis=0))\n",
    "        a[i] /= len(clusters[i])\n",
    "    for i in range(len(clusters)):\n",
    "        b[i] = math.inf\n",
    "        for j in range(len(clusters)):\n",
    "            if i != j:\n",
    "                for x in clusters[i]:\n",
    "                    b[i] = min(b[i], np.linalg.norm(x - np.mean(clusters[j], axis=0)))\n",
    "    for i in range(len(clusters)):\n",
    "        s[i] = (b[i] - a[i]) / max(a[i], b[i])\n",
    "    return s\n"
   ]
  },
  {
   "cell_type": "markdown",
   "id": "documented-isaac",
   "metadata": {},
   "source": [
    "# Exercise 4\n",
    "\n",
    "1. For each of the hierarchy of clusterings computed in Exercise 2: \n",
    "    - extract clusterings with the number of clusters k=2,3,4,...,20\n",
    "    - for each of the extracted clusterings compute Silhouette coefficient and plot the values on a single plot"
   ]
  },
  {
   "cell_type": "code",
   "execution_count": 16,
   "id": "foster-niagara",
   "metadata": {},
   "outputs": [
    {
     "ename": "ValueError",
     "evalue": "setting an array element with a sequence. The requested array has an inhomogeneous shape after 1 dimensions. The detected shape was (19,) + inhomogeneous part.",
     "output_type": "error",
     "traceback": [
      "\u001b[1;31m---------------------------------------------------------------------------\u001b[0m",
      "\u001b[1;31mValueError\u001b[0m                                Traceback (most recent call last)",
      "Cell \u001b[1;32mIn[16], line 11\u001b[0m\n\u001b[0;32m      8\u001b[0m     silhouette_score \u001b[38;5;241m=\u001b[39m silhouette_coefficient(clusters)\n\u001b[0;32m      9\u001b[0m     silhouette_scores\u001b[38;5;241m.\u001b[39mappend(silhouette_score)\n\u001b[1;32m---> 11\u001b[0m \u001b[43mplt\u001b[49m\u001b[38;5;241;43m.\u001b[39;49m\u001b[43mplot\u001b[49m\u001b[43m(\u001b[49m\u001b[43mk_values\u001b[49m\u001b[43m,\u001b[49m\u001b[43m \u001b[49m\u001b[43msilhouette_scores\u001b[49m\u001b[43m)\u001b[49m\n\u001b[0;32m     12\u001b[0m plt\u001b[38;5;241m.\u001b[39mxlabel(\u001b[38;5;124m'\u001b[39m\u001b[38;5;124mNumber of Clusters (k)\u001b[39m\u001b[38;5;124m'\u001b[39m)\n\u001b[0;32m     13\u001b[0m plt\u001b[38;5;241m.\u001b[39mylabel(\u001b[38;5;124m'\u001b[39m\u001b[38;5;124mSilhouette Coefficient\u001b[39m\u001b[38;5;124m'\u001b[39m)\n",
      "File \u001b[1;32mc:\\Users\\isrya\\AppData\\Local\\Programs\\Python\\Python310\\lib\\site-packages\\matplotlib\\pyplot.py:3575\u001b[0m, in \u001b[0;36mplot\u001b[1;34m(scalex, scaley, data, *args, **kwargs)\u001b[0m\n\u001b[0;32m   3567\u001b[0m \u001b[38;5;129m@_copy_docstring_and_deprecators\u001b[39m(Axes\u001b[38;5;241m.\u001b[39mplot)\n\u001b[0;32m   3568\u001b[0m \u001b[38;5;28;01mdef\u001b[39;00m \u001b[38;5;21mplot\u001b[39m(\n\u001b[0;32m   3569\u001b[0m     \u001b[38;5;241m*\u001b[39margs: \u001b[38;5;28mfloat\u001b[39m \u001b[38;5;241m|\u001b[39m ArrayLike \u001b[38;5;241m|\u001b[39m \u001b[38;5;28mstr\u001b[39m,\n\u001b[1;32m   (...)\u001b[0m\n\u001b[0;32m   3573\u001b[0m     \u001b[38;5;241m*\u001b[39m\u001b[38;5;241m*\u001b[39mkwargs,\n\u001b[0;32m   3574\u001b[0m ) \u001b[38;5;241m-\u001b[39m\u001b[38;5;241m>\u001b[39m \u001b[38;5;28mlist\u001b[39m[Line2D]:\n\u001b[1;32m-> 3575\u001b[0m     \u001b[38;5;28;01mreturn\u001b[39;00m gca()\u001b[38;5;241m.\u001b[39mplot(\n\u001b[0;32m   3576\u001b[0m         \u001b[38;5;241m*\u001b[39margs,\n\u001b[0;32m   3577\u001b[0m         scalex\u001b[38;5;241m=\u001b[39mscalex,\n\u001b[0;32m   3578\u001b[0m         scaley\u001b[38;5;241m=\u001b[39mscaley,\n\u001b[0;32m   3579\u001b[0m         \u001b[38;5;241m*\u001b[39m\u001b[38;5;241m*\u001b[39m({\u001b[38;5;124m\"\u001b[39m\u001b[38;5;124mdata\u001b[39m\u001b[38;5;124m\"\u001b[39m: data} \u001b[38;5;28;01mif\u001b[39;00m data \u001b[38;5;129;01mis\u001b[39;00m \u001b[38;5;129;01mnot\u001b[39;00m \u001b[38;5;28;01mNone\u001b[39;00m \u001b[38;5;28;01melse\u001b[39;00m {}),\n\u001b[0;32m   3580\u001b[0m         \u001b[38;5;241m*\u001b[39m\u001b[38;5;241m*\u001b[39mkwargs,\n\u001b[0;32m   3581\u001b[0m     )\n",
      "File \u001b[1;32mc:\\Users\\isrya\\AppData\\Local\\Programs\\Python\\Python310\\lib\\site-packages\\matplotlib\\axes\\_axes.py:1721\u001b[0m, in \u001b[0;36mAxes.plot\u001b[1;34m(self, scalex, scaley, data, *args, **kwargs)\u001b[0m\n\u001b[0;32m   1478\u001b[0m \u001b[38;5;250m\u001b[39m\u001b[38;5;124;03m\"\"\"\u001b[39;00m\n\u001b[0;32m   1479\u001b[0m \u001b[38;5;124;03mPlot y versus x as lines and/or markers.\u001b[39;00m\n\u001b[0;32m   1480\u001b[0m \n\u001b[1;32m   (...)\u001b[0m\n\u001b[0;32m   1718\u001b[0m \u001b[38;5;124;03m(``'green'``) or hex strings (``'#008000'``).\u001b[39;00m\n\u001b[0;32m   1719\u001b[0m \u001b[38;5;124;03m\"\"\"\u001b[39;00m\n\u001b[0;32m   1720\u001b[0m kwargs \u001b[38;5;241m=\u001b[39m cbook\u001b[38;5;241m.\u001b[39mnormalize_kwargs(kwargs, mlines\u001b[38;5;241m.\u001b[39mLine2D)\n\u001b[1;32m-> 1721\u001b[0m lines \u001b[38;5;241m=\u001b[39m [\u001b[38;5;241m*\u001b[39m\u001b[38;5;28mself\u001b[39m\u001b[38;5;241m.\u001b[39m_get_lines(\u001b[38;5;28mself\u001b[39m, \u001b[38;5;241m*\u001b[39margs, data\u001b[38;5;241m=\u001b[39mdata, \u001b[38;5;241m*\u001b[39m\u001b[38;5;241m*\u001b[39mkwargs)]\n\u001b[0;32m   1722\u001b[0m \u001b[38;5;28;01mfor\u001b[39;00m line \u001b[38;5;129;01min\u001b[39;00m lines:\n\u001b[0;32m   1723\u001b[0m     \u001b[38;5;28mself\u001b[39m\u001b[38;5;241m.\u001b[39madd_line(line)\n",
      "File \u001b[1;32mc:\\Users\\isrya\\AppData\\Local\\Programs\\Python\\Python310\\lib\\site-packages\\matplotlib\\axes\\_base.py:303\u001b[0m, in \u001b[0;36m_process_plot_var_args.__call__\u001b[1;34m(self, axes, data, *args, **kwargs)\u001b[0m\n\u001b[0;32m    301\u001b[0m     this \u001b[38;5;241m+\u001b[39m\u001b[38;5;241m=\u001b[39m args[\u001b[38;5;241m0\u001b[39m],\n\u001b[0;32m    302\u001b[0m     args \u001b[38;5;241m=\u001b[39m args[\u001b[38;5;241m1\u001b[39m:]\n\u001b[1;32m--> 303\u001b[0m \u001b[38;5;28;01myield from\u001b[39;00m \u001b[38;5;28;43mself\u001b[39;49m\u001b[38;5;241;43m.\u001b[39;49m\u001b[43m_plot_args\u001b[49m\u001b[43m(\u001b[49m\n\u001b[0;32m    304\u001b[0m \u001b[43m    \u001b[49m\u001b[43maxes\u001b[49m\u001b[43m,\u001b[49m\u001b[43m \u001b[49m\u001b[43mthis\u001b[49m\u001b[43m,\u001b[49m\u001b[43m \u001b[49m\u001b[43mkwargs\u001b[49m\u001b[43m,\u001b[49m\u001b[43m \u001b[49m\u001b[43mambiguous_fmt_datakey\u001b[49m\u001b[38;5;241;43m=\u001b[39;49m\u001b[43mambiguous_fmt_datakey\u001b[49m\u001b[43m)\u001b[49m\n",
      "File \u001b[1;32mc:\\Users\\isrya\\AppData\\Local\\Programs\\Python\\Python310\\lib\\site-packages\\matplotlib\\axes\\_base.py:489\u001b[0m, in \u001b[0;36m_process_plot_var_args._plot_args\u001b[1;34m(self, axes, tup, kwargs, return_kwargs, ambiguous_fmt_datakey)\u001b[0m\n\u001b[0;32m    487\u001b[0m \u001b[38;5;28;01mif\u001b[39;00m \u001b[38;5;28mlen\u001b[39m(xy) \u001b[38;5;241m==\u001b[39m \u001b[38;5;241m2\u001b[39m:\n\u001b[0;32m    488\u001b[0m     x \u001b[38;5;241m=\u001b[39m _check_1d(xy[\u001b[38;5;241m0\u001b[39m])\n\u001b[1;32m--> 489\u001b[0m     y \u001b[38;5;241m=\u001b[39m \u001b[43m_check_1d\u001b[49m\u001b[43m(\u001b[49m\u001b[43mxy\u001b[49m\u001b[43m[\u001b[49m\u001b[38;5;241;43m1\u001b[39;49m\u001b[43m]\u001b[49m\u001b[43m)\u001b[49m\n\u001b[0;32m    490\u001b[0m \u001b[38;5;28;01melse\u001b[39;00m:\n\u001b[0;32m    491\u001b[0m     x, y \u001b[38;5;241m=\u001b[39m index_of(xy[\u001b[38;5;241m-\u001b[39m\u001b[38;5;241m1\u001b[39m])\n",
      "File \u001b[1;32mc:\\Users\\isrya\\AppData\\Local\\Programs\\Python\\Python310\\lib\\site-packages\\matplotlib\\cbook.py:1358\u001b[0m, in \u001b[0;36m_check_1d\u001b[1;34m(x)\u001b[0m\n\u001b[0;32m   1352\u001b[0m \u001b[38;5;66;03m# plot requires `shape` and `ndim`.  If passed an\u001b[39;00m\n\u001b[0;32m   1353\u001b[0m \u001b[38;5;66;03m# object that doesn't provide them, then force to numpy array.\u001b[39;00m\n\u001b[0;32m   1354\u001b[0m \u001b[38;5;66;03m# Note this will strip unit information.\u001b[39;00m\n\u001b[0;32m   1355\u001b[0m \u001b[38;5;28;01mif\u001b[39;00m (\u001b[38;5;129;01mnot\u001b[39;00m \u001b[38;5;28mhasattr\u001b[39m(x, \u001b[38;5;124m'\u001b[39m\u001b[38;5;124mshape\u001b[39m\u001b[38;5;124m'\u001b[39m) \u001b[38;5;129;01mor\u001b[39;00m\n\u001b[0;32m   1356\u001b[0m         \u001b[38;5;129;01mnot\u001b[39;00m \u001b[38;5;28mhasattr\u001b[39m(x, \u001b[38;5;124m'\u001b[39m\u001b[38;5;124mndim\u001b[39m\u001b[38;5;124m'\u001b[39m) \u001b[38;5;129;01mor\u001b[39;00m\n\u001b[0;32m   1357\u001b[0m         \u001b[38;5;28mlen\u001b[39m(x\u001b[38;5;241m.\u001b[39mshape) \u001b[38;5;241m<\u001b[39m \u001b[38;5;241m1\u001b[39m):\n\u001b[1;32m-> 1358\u001b[0m     \u001b[38;5;28;01mreturn\u001b[39;00m \u001b[43mnp\u001b[49m\u001b[38;5;241;43m.\u001b[39;49m\u001b[43matleast_1d\u001b[49m\u001b[43m(\u001b[49m\u001b[43mx\u001b[49m\u001b[43m)\u001b[49m\n\u001b[0;32m   1359\u001b[0m \u001b[38;5;28;01melse\u001b[39;00m:\n\u001b[0;32m   1360\u001b[0m     \u001b[38;5;28;01mreturn\u001b[39;00m x\n",
      "File \u001b[1;32mc:\\Users\\isrya\\AppData\\Local\\Programs\\Python\\Python310\\lib\\site-packages\\numpy\\core\\shape_base.py:65\u001b[0m, in \u001b[0;36matleast_1d\u001b[1;34m(*arys)\u001b[0m\n\u001b[0;32m     63\u001b[0m res \u001b[38;5;241m=\u001b[39m []\n\u001b[0;32m     64\u001b[0m \u001b[38;5;28;01mfor\u001b[39;00m ary \u001b[38;5;129;01min\u001b[39;00m arys:\n\u001b[1;32m---> 65\u001b[0m     ary \u001b[38;5;241m=\u001b[39m \u001b[43masanyarray\u001b[49m\u001b[43m(\u001b[49m\u001b[43mary\u001b[49m\u001b[43m)\u001b[49m\n\u001b[0;32m     66\u001b[0m     \u001b[38;5;28;01mif\u001b[39;00m ary\u001b[38;5;241m.\u001b[39mndim \u001b[38;5;241m==\u001b[39m \u001b[38;5;241m0\u001b[39m:\n\u001b[0;32m     67\u001b[0m         result \u001b[38;5;241m=\u001b[39m ary\u001b[38;5;241m.\u001b[39mreshape(\u001b[38;5;241m1\u001b[39m)\n",
      "\u001b[1;31mValueError\u001b[0m: setting an array element with a sequence. The requested array has an inhomogeneous shape after 1 dimensions. The detected shape was (19,) + inhomogeneous part."
     ]
    },
    {
     "data": {
      "image/png": "[encoded data removed]",
      "text/plain": [
       "<Figure size 640x480 with 1 Axes>"
      ]
     },
     "metadata": {},
     "output_type": "display_data"
    }
   ],
   "source": [
    "import matplotlib.pyplot as plt\n",
    "\n",
    "k_values = range(2, 21)\n",
    "silhouette_scores = []\n",
    "\n",
    "for k in k_values:\n",
    "    clusters = complete_linkage_clustering(dataset, k)\n",
    "    silhouette_score = silhouette_coefficient(clusters)\n",
    "    silhouette_scores.append(silhouette_score)\n",
    "\n",
    "plt.plot(k_values, silhouette_scores)\n",
    "plt.xlabel('Number of Clusters (k)')\n",
    "plt.ylabel('Silhouette Coefficient')\n",
    "plt.title('Silhouette Coefficient vs Number of Clusters')\n",
    "plt.show()\n"
   ]
  },
  {
   "cell_type": "markdown",
   "id": "given-pledge",
   "metadata": {},
   "source": [
    "2. Which algorithm produced the best clustering and what is the number of clusters in this clustering?"
   ]
  },
  {
   "cell_type": "markdown",
   "id": "settled-musician",
   "metadata": {},
   "source": [
    "# Exercise 5\n",
    "\n",
    "Visualise the best clustering of the dataset from the previous exercise on a single plot by coloring different clusters by different colours."
   ]
  },
  {
   "cell_type": "code",
   "execution_count": null,
   "id": "improved-running",
   "metadata": {},
   "outputs": [],
   "source": []
  }
 ],
 "metadata": {
  "kernelspec": {
   "display_name": "Python 3",
   "language": "python",
   "name": "python3"
  },
  "language_info": {
   "codemirror_mode": {
    "name": "ipython",
    "version": 3
   },
   "file_extension": ".py",
   "mimetype": "text/x-python",
   "name": "python",
   "nbconvert_exporter": "python",
   "pygments_lexer": "ipython3",
   "version": "3.10.11"
  }
 },
 "nbformat": 4,
 "nbformat_minor": 5
}
