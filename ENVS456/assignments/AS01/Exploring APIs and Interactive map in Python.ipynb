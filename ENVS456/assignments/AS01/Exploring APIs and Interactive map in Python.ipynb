{
 "cells": [
  {
   "cell_type": "markdown",
   "metadata": {},
   "source": [
    "# Assignment 01: \n",
    "# Exploring APIs and Interactive map in Python"
   ]
  },
  {
   "cell_type": "code",
   "execution_count": 4,
   "metadata": {},
   "outputs": [
    {
     "name": "stdout",
     "output_type": "stream",
     "text": [
      "{'coord': {'lon': -2.9779, 'lat': 53.4106}, 'weather': [{'id': 802, 'main': 'Clouds', 'description': 'scattered clouds', 'icon': '03d'}], 'base': 'stations', 'main': {'temp': 281.95, 'feels_like': 279.88, 'temp_min': 280.99, 'temp_max': 283.14, 'pressure': 1001, 'humidity': 66}, 'visibility': 10000, 'wind': {'speed': 3.6, 'deg': 310}, 'clouds': {'all': 40}, 'dt': 1709478182, 'sys': {'type': 2, 'id': 2008599, 'country': 'GB', 'sunrise': 1709448865, 'sunset': 1709488408}, 'timezone': 0, 'id': 2644210, 'name': 'Liverpool', 'cod': 200}\n"
     ]
    }
   ],
   "source": [
    "# Obtain weather data from the OpenWeatherMap API\n",
    "\n",
    "import requests\n",
    "\n",
    "API_KEY = '0505edcaeb95ae57982da7555d79d52b'\n",
    "CITY = 'Liverpool'\n",
    "url = f'http://api.openweathermap.org/data/2.5/weather?q={CITY}&appid={API_KEY}'\n",
    "\n",
    "response = requests.get(url) \n",
    "weather_data = response.json() \n",
    "print(weather_data)"
   ]
  },
  {
   "cell_type": "code",
   "execution_count": 7,
   "metadata": {},
   "outputs": [
    {
     "name": "stdout",
     "output_type": "stream",
     "text": [
      "The weather in Liverpool, GB is scattered clouds.\n",
      "The temperature is 281.95°C, but it feels like 279.88°C.\n",
      "The minimum temperature is 280.99°C and the maximum temperature is 283.14°C.\n",
      "The pressure is 1001 hPa and the humidity is 66%.\n",
      "The visibility is 10000m and the wind speed is 3.6m/s.\n",
      "The cloud cover is 40%.\n"
     ]
    }
   ],
   "source": [
    "# Process all the data\n",
    "city = weather_data['name']\n",
    "country = weather_data['sys']['country']\n",
    "weather = weather_data['weather'][0]['description']\n",
    "\n",
    "temp = weather_data['main']['temp']\n",
    "feels_like = weather_data['main']['feels_like']\n",
    "temp_min = weather_data['main']['temp_min']\n",
    "temp_max = weather_data['main']['temp_max']\n",
    "pressure = weather_data['main']['pressure']\n",
    "humidity = weather_data['main']['humidity']\n",
    "visibility = weather_data['visibility']\n",
    "wind_speed = weather_data['wind']['speed']\n",
    "clouds = weather_data['clouds']['all']\n",
    "\n",
    "\n",
    "print(f'The weather in {city}, {country} is {weather}.')\n",
    "print(f'The temperature is {temp}°C, but it feels like {feels_like}°C.')\n",
    "print(f'The minimum temperature is {temp_min}°C and the maximum temperature is {temp_max}°C.')\n",
    "print(f'The pressure is {pressure} hPa and the humidity is {humidity}%.')\n",
    "print(f'The visibility is {visibility}m and the wind speed is {wind_speed}m/s.')\n",
    "print(f'The cloud cover is {clouds}%.')\n"
   ]
  },
  {
   "cell_type": "code",
   "execution_count": 9,
   "metadata": {},
   "outputs": [
    {
     "data": {
      "text/html": [
       "<div style=\"width:100%;\"><div style=\"position:relative;width:100%;height:0;padding-bottom:60%;\"><span style=\"color:#565656\">Make this Notebook Trusted to load map: File -> Trust Notebook</span><iframe srcdoc=\"&lt;!DOCTYPE html&gt;\n",
       "&lt;html&gt;\n",
       "&lt;head&gt;\n",
       "    \n",
       "    &lt;meta http-equiv=&quot;content-type&quot; content=&quot;text/html; charset=UTF-8&quot; /&gt;\n",
       "    \n",
       "        &lt;script&gt;\n",
       "            L_NO_TOUCH = false;\n",
       "            L_DISABLE_3D = false;\n",
       "        &lt;/script&gt;\n",
       "    \n",
       "    &lt;style&gt;html, body {width: 100%;height: 100%;margin: 0;padding: 0;}&lt;/style&gt;\n",
       "    &lt;style&gt;#map {position:absolute;top:0;bottom:0;right:0;left:0;}&lt;/style&gt;\n",
       "    &lt;script src=&quot;https://cdn.jsdelivr.net/npm/leaflet@1.9.3/dist/leaflet.js&quot;&gt;&lt;/script&gt;\n",
       "    &lt;script src=&quot;https://code.jquery.com/jquery-3.7.1.min.js&quot;&gt;&lt;/script&gt;\n",
       "    &lt;script src=&quot;https://cdn.jsdelivr.net/npm/bootstrap@5.2.2/dist/js/bootstrap.bundle.min.js&quot;&gt;&lt;/script&gt;\n",
       "    &lt;script src=&quot;https://cdnjs.cloudflare.com/ajax/libs/Leaflet.awesome-markers/2.0.2/leaflet.awesome-markers.js&quot;&gt;&lt;/script&gt;\n",
       "    &lt;link rel=&quot;stylesheet&quot; href=&quot;https://cdn.jsdelivr.net/npm/leaflet@1.9.3/dist/leaflet.css&quot;/&gt;\n",
       "    &lt;link rel=&quot;stylesheet&quot; href=&quot;https://cdn.jsdelivr.net/npm/bootstrap@5.2.2/dist/css/bootstrap.min.css&quot;/&gt;\n",
       "    &lt;link rel=&quot;stylesheet&quot; href=&quot;https://netdna.bootstrapcdn.com/bootstrap/3.0.0/css/bootstrap.min.css&quot;/&gt;\n",
       "    &lt;link rel=&quot;stylesheet&quot; href=&quot;https://cdn.jsdelivr.net/npm/@fortawesome/fontawesome-free@6.2.0/css/all.min.css&quot;/&gt;\n",
       "    &lt;link rel=&quot;stylesheet&quot; href=&quot;https://cdnjs.cloudflare.com/ajax/libs/Leaflet.awesome-markers/2.0.2/leaflet.awesome-markers.css&quot;/&gt;\n",
       "    &lt;link rel=&quot;stylesheet&quot; href=&quot;https://cdn.jsdelivr.net/gh/python-visualization/folium/folium/templates/leaflet.awesome.rotate.min.css&quot;/&gt;\n",
       "    \n",
       "            &lt;meta name=&quot;viewport&quot; content=&quot;width=device-width,\n",
       "                initial-scale=1.0, maximum-scale=1.0, user-scalable=no&quot; /&gt;\n",
       "            &lt;style&gt;\n",
       "                #map_b16c9b22c7688e9eb0ac3bedbced4c03 {\n",
       "                    position: relative;\n",
       "                    width: 100.0%;\n",
       "                    height: 100.0%;\n",
       "                    left: 0.0%;\n",
       "                    top: 0.0%;\n",
       "                }\n",
       "                .leaflet-container { font-size: 1rem; }\n",
       "            &lt;/style&gt;\n",
       "        \n",
       "&lt;/head&gt;\n",
       "&lt;body&gt;\n",
       "    \n",
       "    \n",
       "            &lt;div class=&quot;folium-map&quot; id=&quot;map_b16c9b22c7688e9eb0ac3bedbced4c03&quot; &gt;&lt;/div&gt;\n",
       "        \n",
       "&lt;/body&gt;\n",
       "&lt;script&gt;\n",
       "    \n",
       "    \n",
       "            var map_b16c9b22c7688e9eb0ac3bedbced4c03 = L.map(\n",
       "                &quot;map_b16c9b22c7688e9eb0ac3bedbced4c03&quot;,\n",
       "                {\n",
       "                    center: [53.4084, -2.9916],\n",
       "                    crs: L.CRS.EPSG3857,\n",
       "                    zoom: 12,\n",
       "                    zoomControl: true,\n",
       "                    preferCanvas: false,\n",
       "                }\n",
       "            );\n",
       "\n",
       "            \n",
       "\n",
       "        \n",
       "    \n",
       "            var tile_layer_ebf3b87872afdd3e8f317affa1c9c99d = L.tileLayer(\n",
       "                &quot;https://tile.openstreetmap.org/{z}/{x}/{y}.png&quot;,\n",
       "                {&quot;attribution&quot;: &quot;\\u0026copy; \\u003ca href=\\&quot;https://www.openstreetmap.org/copyright\\&quot;\\u003eOpenStreetMap\\u003c/a\\u003e contributors&quot;, &quot;detectRetina&quot;: false, &quot;maxNativeZoom&quot;: 19, &quot;maxZoom&quot;: 19, &quot;minZoom&quot;: 0, &quot;noWrap&quot;: false, &quot;opacity&quot;: 1, &quot;subdomains&quot;: &quot;abc&quot;, &quot;tms&quot;: false}\n",
       "            );\n",
       "        \n",
       "    \n",
       "            tile_layer_ebf3b87872afdd3e8f317affa1c9c99d.addTo(map_b16c9b22c7688e9eb0ac3bedbced4c03);\n",
       "        \n",
       "    \n",
       "            var marker_7844d87cdf7374343d81c5d3037d6c23 = L.marker(\n",
       "                [53.4084, -2.9916],\n",
       "                {}\n",
       "            ).addTo(map_b16c9b22c7688e9eb0ac3bedbced4c03);\n",
       "        \n",
       "    \n",
       "        var popup_f669bd9770d1c5ca548538b12935b301 = L.popup({&quot;maxWidth&quot;: &quot;100%&quot;});\n",
       "\n",
       "        \n",
       "            \n",
       "                var html_cd60c6793a8d78b2ab63cd46661687e5 = $(`&lt;div id=&quot;html_cd60c6793a8d78b2ab63cd46661687e5&quot; style=&quot;width: 100.0%; height: 100.0%;&quot;&gt;The weather in Liverpool, GB is scattered clouds.\\nThe temperature is 281.95°C, feels like 279.88°C.\\nMin temp: 280.99°C, Max temp: 283.14°C.\\nPressure: 1001 hPa, Humidity: 66%.\\nVisibility: 10000m, Wind speed: 3.6m/s.\\nCloud cover: 40%.&lt;/div&gt;`)[0];\n",
       "                popup_f669bd9770d1c5ca548538b12935b301.setContent(html_cd60c6793a8d78b2ab63cd46661687e5);\n",
       "            \n",
       "        \n",
       "\n",
       "        marker_7844d87cdf7374343d81c5d3037d6c23.bindPopup(popup_f669bd9770d1c5ca548538b12935b301)\n",
       "        ;\n",
       "\n",
       "        \n",
       "    \n",
       "&lt;/script&gt;\n",
       "&lt;/html&gt;\" style=\"position:absolute;width:100%;height:100%;left:0;top:0;border:none !important;\" allowfullscreen webkitallowfullscreen mozallowfullscreen></iframe></div></div>"
      ],
      "text/plain": [
       "<folium.folium.Map at 0x1e292fb4810>"
      ]
     },
     "execution_count": 9,
     "metadata": {},
     "output_type": "execute_result"
    }
   ],
   "source": [
    "# Show the weather data on a map with folium\n",
    "\n",
    "import folium\n",
    "\n",
    "# 假设这是利物浦的经纬度\n",
    "latitude = 53.4084\n",
    "longitude = -2.9916\n",
    "\n",
    "# 创建一个地图对象\n",
    "map_liverpool = folium.Map(location=[latitude, longitude], zoom_start=12)\n",
    "\n",
    "# 创建一个标记，并添加到地图上\n",
    "popup_content = f\"The weather in {city}, {country} is {weather}.\\\\n\"\n",
    "popup_content += f\"The temperature is {temp}°C, feels like {feels_like}°C.\\\\n\"\n",
    "popup_content += f\"Min temp: {temp_min}°C, Max temp: {temp_max}°C.\\\\n\"\n",
    "popup_content += f\"Pressure: {pressure} hPa, Humidity: {humidity}%.\\\\n\"\n",
    "popup_content += f\"Visibility: {visibility}m, Wind speed: {wind_speed}m/s.\\\\n\"\n",
    "popup_content += f\"Cloud cover: {clouds}%.\"\n",
    "\n",
    "folium.Marker([latitude, longitude], popup=popup_content).add_to(map_liverpool)\n",
    "\n",
    "# 展示地图\n",
    "map_liverpool"
   ]
  },
  {
   "cell_type": "markdown",
   "metadata": {},
   "source": [
    "## Future 5 days"
   ]
  },
  {
   "cell_type": "code",
   "execution_count": null,
   "metadata": {},
   "outputs": [],
   "source": []
  }
 ],
 "metadata": {
  "kernelspec": {
   "display_name": "ENVS456",
   "language": "python",
   "name": "python3"
  },
  "language_info": {
   "codemirror_mode": {
    "name": "ipython",
    "version": 3
   },
   "file_extension": ".py",
   "mimetype": "text/x-python",
   "name": "python",
   "nbconvert_exporter": "python",
   "pygments_lexer": "ipython3",
   "version": "3.11.5"
  }
 },
 "nbformat": 4,
 "nbformat_minor": 2
}
