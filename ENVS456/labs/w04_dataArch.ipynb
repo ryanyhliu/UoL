{
 "cells": [
  {
   "cell_type": "raw",
   "id": "01c54fc2",
   "metadata": {},
   "source": [
    "---\n",
    "title: Data Architectures and Tiles\n",
    "author: Elisabetta Pietrostefani and Gabriele Filomena\n",
    "date: today\n",
    "format:\n",
    "  html:\n",
    "    code-fold: false\n",
    "---"
   ]
  },
  {
   "cell_type": "markdown",
   "id": "d665d8b5",
   "metadata": {},
   "source": [
    "The **Lecture slides** can be found [here](https://github.com/GDSL-UL/wma/raw/main/lectures/w04.html)."
   ]
  },
  {
   "cell_type": "markdown",
   "id": "c17a12bb",
   "metadata": {},
   "source": [
    "In this lab, we will explore and familiarise with some of the most common data formats for web mapping: GeoJSON and Mbtiles. \n",
    "\n",
    "## GeoJSON\n",
    "\n",
    "To get familiar with the format, we will start by creating a GeoJSON file from scratch. Head over to the following website:\n",
    "\n",
    "<https://geojson.io/>\n",
    "\n",
    "In there, we will create together a small example to better understand the building blocks of this file format.\n",
    "\n",
    "<img src=\"../labs_img/geojson.png\" width=\"80%\">\n",
    "\n",
    "We will pay special attention to the following aspects:\n",
    "\n",
    "-   Readability.\n",
    "-   Coordinate system.\n",
    "-   Ability to add non-spatial information attached to each record.\n",
    "-   How to save it as a file.\n",
    "\n",
    "<div class=\"alert alert-success\">\n",
    "\n",
    "**Excercise**:\n",
    "\n",
    "Create a GeoJSON file for the following data and save them to separate files:\n",
    "\n",
    "1.  Your five favourite spots in Liverpool\n",
    "2.  A polygon of what you consider to be the boundary of the neighbourhood where you live and the city centre of Liverpool. Name each.\n",
    "3.  A route that captures one of your favourite walks around the Liverpool region\n",
    "\n",
    "If you are comfortable, upload the files to Microsoft Teams to share them with peers.\n",
    "\n",
    "</div>\n",
    "\n",
    "### GeoJSON in Python\n",
    "\n",
    "With the files from the exercise at hand, we will learn how to open them in a Python environment. Then, let's begin by importing the necessary libraries; `geojson` is used for handling GeoJSON files.\n"
   ]
  },
  {
   "cell_type": "code",
   "execution_count": 1,
   "id": "9a74b752",
   "metadata": {},
   "outputs": [
    {
     "ename": "ModuleNotFoundError",
     "evalue": "No module named 'geopandas'",
     "output_type": "error",
     "traceback": [
      "\u001b[0;31m---------------------------------------------------------------------------\u001b[0m",
      "\u001b[0;31mModuleNotFoundError\u001b[0m                       Traceback (most recent call last)",
      "Cell \u001b[0;32mIn[1], line 1\u001b[0m\n\u001b[0;32m----> 1\u001b[0m \u001b[38;5;28;01mimport\u001b[39;00m \u001b[38;5;21;01mgeopandas\u001b[39;00m \u001b[38;5;28;01mas\u001b[39;00m \u001b[38;5;21;01mgpd\u001b[39;00m\n",
      "\u001b[0;31mModuleNotFoundError\u001b[0m: No module named 'geopandas'"
     ]
    }
   ],
   "source": [
    "import geopandas as gpd"
   ]
  },
  {
   "cell_type": "markdown",
   "id": "b5dede5f",
   "metadata": {},
   "source": [
    "Now, place the geojson files you have created in the data folder used in these sessions. As always, the data folder should be stored in the directory where the notebook is running from. For this example, we will assume that the file is called `map.geojson`. We can read the file as:\n"
   ]
  },
  {
   "cell_type": "code",
   "execution_count": 2,
   "id": "a76fbf57",
   "metadata": {},
   "outputs": [
    {
     "data": {
      "text/html": [
       "<div>\n",
       "<style scoped>\n",
       "    .dataframe tbody tr th:only-of-type {\n",
       "        vertical-align: middle;\n",
       "    }\n",
       "\n",
       "    .dataframe tbody tr th {\n",
       "        vertical-align: top;\n",
       "    }\n",
       "\n",
       "    .dataframe thead th {\n",
       "        text-align: right;\n",
       "    }\n",
       "</style>\n",
       "<table border=\"1\" class=\"dataframe\">\n",
       "  <thead>\n",
       "    <tr style=\"text-align: right;\">\n",
       "      <th></th>\n",
       "      <th>geometry</th>\n",
       "    </tr>\n",
       "  </thead>\n",
       "  <tbody>\n",
       "    <tr>\n",
       "      <th>0</th>\n",
       "      <td>POINT (-2.95623 53.39041)</td>\n",
       "    </tr>\n",
       "    <tr>\n",
       "      <th>1</th>\n",
       "      <td>LINESTRING (-2.95561 53.39037, -2.95555 53.389...</td>\n",
       "    </tr>\n",
       "    <tr>\n",
       "      <th>2</th>\n",
       "      <td>POLYGON ((-2.96760 53.40312, -2.96760 53.40017...</td>\n",
       "    </tr>\n",
       "  </tbody>\n",
       "</table>\n",
       "</div>"
      ],
      "text/plain": [
       "                                            geometry\n",
       "0                          POINT (-2.95623 53.39041)\n",
       "1  LINESTRING (-2.95561 53.39037, -2.95555 53.389...\n",
       "2  POLYGON ((-2.96760 53.40312, -2.96760 53.40017..."
      ]
     },
     "execution_count": 2,
     "metadata": {},
     "output_type": "execute_result"
    }
   ],
   "source": [
    "liverpool = gpd.read_file(\"../data/map.geojson\")\n",
    "liverpool.head()"
   ]
  },
  {
   "cell_type": "markdown",
   "id": "be2c7672",
   "metadata": {},
   "source": [
    "We can also plot and explore the content of the GeoDataFrame with `Folium`. Folium, which we will see more in detail later on, helps create interactive maps from data stored in `geopandas.GeoDataFrame`.\n"
   ]
  },
  {
   "cell_type": "code",
   "execution_count": 3,
   "id": "dce09f74",
   "metadata": {},
   "outputs": [
    {
     "data": {
      "text/html": [
       "<div style=\"width:100%;\"><div style=\"position:relative;width:100%;height:0;padding-bottom:60%;\"><span style=\"color:#565656\">Make this Notebook Trusted to load map: File -> Trust Notebook</span><iframe srcdoc=\"&lt;!DOCTYPE html&gt;\n",
       "&lt;html&gt;\n",
       "&lt;head&gt;\n",
       "    \n",
       "    &lt;meta http-equiv=&quot;content-type&quot; content=&quot;text/html; charset=UTF-8&quot; /&gt;\n",
       "    \n",
       "        &lt;script&gt;\n",
       "            L_NO_TOUCH = false;\n",
       "            L_DISABLE_3D = false;\n",
       "        &lt;/script&gt;\n",
       "    \n",
       "    &lt;style&gt;html, body {width: 100%;height: 100%;margin: 0;padding: 0;}&lt;/style&gt;\n",
       "    &lt;style&gt;#map {position:absolute;top:0;bottom:0;right:0;left:0;}&lt;/style&gt;\n",
       "    &lt;script src=&quot;https://cdn.jsdelivr.net/npm/leaflet@1.9.3/dist/leaflet.js&quot;&gt;&lt;/script&gt;\n",
       "    &lt;script src=&quot;https://code.jquery.com/jquery-3.7.1.min.js&quot;&gt;&lt;/script&gt;\n",
       "    &lt;script src=&quot;https://cdn.jsdelivr.net/npm/bootstrap@5.2.2/dist/js/bootstrap.bundle.min.js&quot;&gt;&lt;/script&gt;\n",
       "    &lt;script src=&quot;https://cdnjs.cloudflare.com/ajax/libs/Leaflet.awesome-markers/2.0.2/leaflet.awesome-markers.js&quot;&gt;&lt;/script&gt;\n",
       "    &lt;link rel=&quot;stylesheet&quot; href=&quot;https://cdn.jsdelivr.net/npm/leaflet@1.9.3/dist/leaflet.css&quot;/&gt;\n",
       "    &lt;link rel=&quot;stylesheet&quot; href=&quot;https://cdn.jsdelivr.net/npm/bootstrap@5.2.2/dist/css/bootstrap.min.css&quot;/&gt;\n",
       "    &lt;link rel=&quot;stylesheet&quot; href=&quot;https://netdna.bootstrapcdn.com/bootstrap/3.0.0/css/bootstrap.min.css&quot;/&gt;\n",
       "    &lt;link rel=&quot;stylesheet&quot; href=&quot;https://cdn.jsdelivr.net/npm/@fortawesome/fontawesome-free@6.2.0/css/all.min.css&quot;/&gt;\n",
       "    &lt;link rel=&quot;stylesheet&quot; href=&quot;https://cdnjs.cloudflare.com/ajax/libs/Leaflet.awesome-markers/2.0.2/leaflet.awesome-markers.css&quot;/&gt;\n",
       "    &lt;link rel=&quot;stylesheet&quot; href=&quot;https://cdn.jsdelivr.net/gh/python-visualization/folium/folium/templates/leaflet.awesome.rotate.min.css&quot;/&gt;\n",
       "    \n",
       "            &lt;meta name=&quot;viewport&quot; content=&quot;width=device-width,\n",
       "                initial-scale=1.0, maximum-scale=1.0, user-scalable=no&quot; /&gt;\n",
       "            &lt;style&gt;\n",
       "                #map_cf9657accee66356859d0066658bf5d9 {\n",
       "                    position: relative;\n",
       "                    width: 100.0%;\n",
       "                    height: 100.0%;\n",
       "                    left: 0.0%;\n",
       "                    top: 0.0%;\n",
       "                }\n",
       "                .leaflet-container { font-size: 1rem; }\n",
       "            &lt;/style&gt;\n",
       "        \n",
       "&lt;/head&gt;\n",
       "&lt;body&gt;\n",
       "    \n",
       "    \n",
       "            &lt;div class=&quot;folium-map&quot; id=&quot;map_cf9657accee66356859d0066658bf5d9&quot; &gt;&lt;/div&gt;\n",
       "        \n",
       "&lt;/body&gt;\n",
       "&lt;script&gt;\n",
       "    \n",
       "    \n",
       "            var map_cf9657accee66356859d0066658bf5d9 = L.map(\n",
       "                &quot;map_cf9657accee66356859d0066658bf5d9&quot;,\n",
       "                {\n",
       "                    center: [53.41058, -2.97794],\n",
       "                    crs: L.CRS.EPSG3857,\n",
       "                    zoom: 13,\n",
       "                    zoomControl: true,\n",
       "                    preferCanvas: false,\n",
       "                }\n",
       "            );\n",
       "\n",
       "            \n",
       "\n",
       "        \n",
       "    \n",
       "            var tile_layer_54e22e507423e541feb8b43d85dc3f97 = L.tileLayer(\n",
       "                &quot;https://{s}.basemaps.cartocdn.com/dark_nolabels/{z}/{x}/{y}{r}.png&quot;,\n",
       "                {&quot;attribution&quot;: &quot;\\u0026copy; \\u003ca href=\\&quot;https://www.openstreetmap.org/copyright\\&quot;\\u003eOpenStreetMap\\u003c/a\\u003e contributors \\u0026copy; \\u003ca href=\\&quot;https://carto.com/attributions\\&quot;\\u003eCARTO\\u003c/a\\u003e&quot;, &quot;detectRetina&quot;: false, &quot;maxNativeZoom&quot;: 20, &quot;maxZoom&quot;: 20, &quot;minZoom&quot;: 0, &quot;noWrap&quot;: false, &quot;opacity&quot;: 1, &quot;subdomains&quot;: &quot;abcd&quot;, &quot;tms&quot;: false}\n",
       "            );\n",
       "        \n",
       "    \n",
       "            tile_layer_54e22e507423e541feb8b43d85dc3f97.addTo(map_cf9657accee66356859d0066658bf5d9);\n",
       "        \n",
       "    \n",
       "\n",
       "        function geo_json_2778a55b98ea1acda541909880fa898b_onEachFeature(feature, layer) {\n",
       "            layer.on({\n",
       "            });\n",
       "        };\n",
       "        var geo_json_2778a55b98ea1acda541909880fa898b = L.geoJson(null, {\n",
       "                onEachFeature: geo_json_2778a55b98ea1acda541909880fa898b_onEachFeature,\n",
       "            \n",
       "        });\n",
       "\n",
       "        function geo_json_2778a55b98ea1acda541909880fa898b_add (data) {\n",
       "            geo_json_2778a55b98ea1acda541909880fa898b\n",
       "                .addData(data);\n",
       "        }\n",
       "            geo_json_2778a55b98ea1acda541909880fa898b_add({&quot;bbox&quot;: [-2.9676030774210744, 53.38207657604343, -2.9430664487443323, 53.40312143883355], &quot;features&quot;: [{&quot;bbox&quot;: [-2.956230937178475, 53.39040731058759, -2.956230937178475, 53.39040731058759], &quot;geometry&quot;: {&quot;coordinates&quot;: [-2.956230937178475, 53.39040731058759], &quot;type&quot;: &quot;Point&quot;}, &quot;id&quot;: &quot;0&quot;, &quot;properties&quot;: {}, &quot;type&quot;: &quot;Feature&quot;}, {&quot;bbox&quot;: [-2.9556128860781996, 53.38207657604343, -2.9430664487443323, 53.39037045252101], &quot;geometry&quot;: {&quot;coordinates&quot;: [[-2.9556128860781996, 53.39037045252101], [-2.9555510809678367, 53.38915411841484], [-2.950853892607313, 53.385099420376235], [-2.9430664487443323, 53.38207657604343], [-2.9447351867151497, 53.3852837332106], [-2.946712950235508, 53.388564368155585]], &quot;type&quot;: &quot;LineString&quot;}, &quot;id&quot;: &quot;1&quot;, &quot;properties&quot;: {}, &quot;type&quot;: &quot;Feature&quot;}, {&quot;bbox&quot;: [-2.9676030774210744, 53.40017357345624, -2.963029499280111, 53.40312143883355], &quot;geometry&quot;: {&quot;coordinates&quot;: [[[-2.9676030774210744, 53.40312143883355], [-2.9676030774210744, 53.40017357345624], [-2.963029499280111, 53.40017357345624], [-2.963029499280111, 53.40312143883355], [-2.9676030774210744, 53.40312143883355]]], &quot;type&quot;: &quot;Polygon&quot;}, &quot;id&quot;: &quot;2&quot;, &quot;properties&quot;: {}, &quot;type&quot;: &quot;Feature&quot;}], &quot;type&quot;: &quot;FeatureCollection&quot;});\n",
       "\n",
       "        \n",
       "    \n",
       "            geo_json_2778a55b98ea1acda541909880fa898b.addTo(map_cf9657accee66356859d0066658bf5d9);\n",
       "        \n",
       "&lt;/script&gt;\n",
       "&lt;/html&gt;\" style=\"position:absolute;width:100%;height:100%;left:0;top:0;border:none !important;\" allowfullscreen webkitallowfullscreen mozallowfullscreen></iframe></div></div>"
      ],
      "text/plain": [
       "<folium.folium.Map at 0x26a302464d0>"
      ]
     },
     "execution_count": 3,
     "metadata": {},
     "output_type": "execute_result"
    }
   ],
   "source": [
    "import folium \n",
    "\n",
    "liverpool_centroid = (53.41058,\t-2.97794)\n",
    "# Create a Folium map centered around this point\n",
    "map = folium.Map(location=liverpool_centroid, zoom_start=13, tiles=\"CartoDB.DarkMatterNoLabels\")\n",
    "\n",
    "# Add the liverpool data to the map, this will plot each geometry in the GeoDataFrame\n",
    "folium.GeoJson(liverpool).add_to(map)\n",
    "map"
   ]
  },
  {
   "cell_type": "markdown",
   "id": "a3b19bbf",
   "metadata": {},
   "source": [
    "Once read, the geojson behaves exactly like any GeoDataFrame we have seen so far. We can therefore operate on it and tap into the functionality from `pandas` and `geopandas`. For example, we can and reproject the layer to the to British National Grid.\n"
   ]
  },
  {
   "cell_type": "code",
   "execution_count": 4,
   "id": "3405b69d",
   "metadata": {},
   "outputs": [],
   "source": [
    "liverpool_bng = liverpool.to_crs(crs = \"EPSG: 27700\")"
   ]
  },
  {
   "cell_type": "markdown",
   "id": "1da1030f",
   "metadata": {},
   "source": [
    "When we inspected our geojson, we noted that the spatial data is stored in the following format `POINT (-2.977367 53.40753)`. This is called \"well known text\" (`wkt`) and is a representation that spatial databases like PostGIS use as well. Another way to store spatial data as text for storage or transfer, less (human) readable but more efficient is the \"well known blurb\" (`wkb`). We can use the `shapely` library to handle the WKT representation of the geometry and then convert it to WKB format.\n"
   ]
  },
  {
   "cell_type": "code",
   "execution_count": 5,
   "id": "83e8ae7c",
   "metadata": {},
   "outputs": [
    {
     "data": {
      "text/plain": [
       "'01010000005e8429caa5d107c0c7116bf129b44a40'"
      ]
     },
     "execution_count": 5,
     "metadata": {},
     "output_type": "execute_result"
    }
   ],
   "source": [
    "from shapely import wkt\n",
    "from shapely.geometry import Point\n",
    "import shapely.wkb\n",
    "\n",
    "# Load the WKT representation of the point\n",
    "wkt_string = \"POINT (-2.977367 53.40753)\"\n",
    "\n",
    "# Convert the WKT representation into a Shapely Point object\n",
    "point = wkt.loads(wkt_string)\n",
    "\n",
    "# Convert the Point object into WKB format\n",
    "wkb_data = shapely.wkb.dumps(point)\n",
    "wkb_data.hex()"
   ]
  },
  {
   "cell_type": "markdown",
   "id": "bfac1391",
   "metadata": {},
   "source": [
    "<div class=\"alert alert-success\">\n",
    "    \n",
    "**Excercise**:\n",
    "-   Read the `GeoJSON` created for your favorite walks in Liverpool and calculate their length\n",
    "\n",
    "</div>\n",
    "\n",
    "Once you are happy with the data as we will hypothetically need it, you can write it out to any other file format supported in `geopandas`. For\n",
    "example, we can create a Geopackge file with the same information. For this, we can use the function `to_file`. See an example below:\n"
   ]
  },
  {
   "cell_type": "code",
   "execution_count": 6,
   "id": "5c4299f8",
   "metadata": {},
   "outputs": [
    {
     "name": "stdout",
     "output_type": "stream",
     "text": [
      "                                            geometry       length\n",
      "0                      POINT (336503.713 388600.612)     0.000000\n",
      "1  LINESTRING (336544.760 388595.961, 336547.058 ...  2063.411570\n",
      "2  POLYGON ((335766.617 390025.228, 335762.169 38...  1264.154449\n"
     ]
    }
   ],
   "source": [
    "import geopandas as gpd\n",
    "\n",
    "# 读取GeoJSON文件\n",
    "file_path = \"../data/map.geojson\"\n",
    "walks = gpd.read_file(file_path)\n",
    "\n",
    "# 计算每条路线的长度\n",
    "# 转换参考系到英国国家网格, EPSG:27700\n",
    "walks = walks.to_crs(epsg=27700)\n",
    "# 计算每条路线的长度\n",
    "walks[\"length\"] = walks[\"geometry\"].length\n",
    "\n",
    "print(walks.head())\n",
    "\n",
    "# Write 'liverpool_bng' to a GeoPackage file\n",
    "# liverpool_bng.to_file(\"../data/liverpool_bng.gpkg\", layer=\"liverpool_bng\", driver=\"GPKG\")\n",
    "walks.to_file(\"../data/walks.gpkg\", layer=\"walks\", driver=\"GPKG\")"
   ]
  },
  {
   "cell_type": "markdown",
   "id": "1985fd44",
   "metadata": {},
   "source": [
    "## Tilesets and `Mbtiles`\n",
    "In this section we will dive into the concept of tiles to understand why they have been so transformative in the world of web mapping. We have\n",
    "already seen the usage of tilesets above with `folium` and with `contextily` (although within a static context). We will see that `folium`, integrates different tileset options already.\n",
    "\n",
    "For this section, let's start by getting the building footprints from OpenStreetMap with `osmnx`\n"
   ]
  },
  {
   "cell_type": "code",
   "execution_count": 7,
   "id": "557e1563",
   "metadata": {},
   "outputs": [],
   "source": [
    "import osmnx as ox\n",
    "tags = {\"building\": True} #OSM tags\n",
    "buildings = ox.features_from_place(\"Liverpool, UK\", tags = tags) \n",
    "buildings = buildings.reset_index()\n",
    "# sometimes building footprints are represented by Points, let's disregard them\n",
    "buildings = buildings[(buildings.geometry.geom_type == 'Polygon') | (buildings.geometry.geom_type == 'MultiPolygon')]"
   ]
  },
  {
   "cell_type": "code",
   "execution_count": 8,
   "id": "1723c02d",
   "metadata": {},
   "outputs": [
    {
     "data": {
      "text/plain": [
       "<Axes: >"
      ]
     },
     "execution_count": 8,
     "metadata": {},
     "output_type": "execute_result"
    },
    {
     "data": {
      "image/png": "[encoded data removed]",
      "text/plain": [
       "<Figure size 640x480 with 1 Axes>"
      ]
     },
     "metadata": {},
     "output_type": "display_data"
    }
   ],
   "source": [
    "buildings.plot()"
   ]
  },
  {
   "cell_type": "markdown",
   "id": "cda88c87",
   "metadata": {},
   "source": [
    "Let's save the GeoDataFrame a geojson and call it `buildings_liverpool.geojson`.\n"
   ]
  },
  {
   "cell_type": "code",
   "execution_count": 9,
   "id": "20e0f389",
   "metadata": {},
   "outputs": [],
   "source": [
    "buildings[['osmid','geometry']].to_file('../data/buildings_liverpool.geojson',  driver='GeoJSON')"
   ]
  },
  {
   "cell_type": "markdown",
   "id": "9cd35ee1",
   "metadata": {},
   "source": [
    "Then, register for a MapBox account [here](https://account.mapbox.com/auth/signup/?route-to=%22https%3A%2F%2Faccount.mapbox.com%2Faccess-tokens%2F%22).\n",
    "\n",
    "### Optional: Generating .mbtiles in Python\n",
    "\n",
    "In Python, you can use `togeojsontiles` to make dynamic `.mbtiles` files. This is useful to visualize large data appropriately at any zoom level.\n",
    "**This step cannot be ran on University Machines**\n",
    "It requires the installation of `tippecanoe` on your machine. Follow the corresponding instructions for [Windows](https://gist.github.com/ryanbaumann/e5c7d76f6eeb8598e66c5785b677726e) and for [MAC](https://github.com/mapbox/tippecanoe)"
   ]
  },
  {
   "cell_type": "code",
   "execution_count": 12,
   "id": "da5e2d99-db77-437c-b116-51a617c56a10",
   "metadata": {},
   "outputs": [
    {
     "name": "stdout",
     "output_type": "stream",
     "text": [
      "Requirement already satisfied: togeojsontiles in c:\\users\\isrya\\.conda\\envs\\envs456\\lib\\site-packages (0.1.2)\n",
      "Note: you may need to restart the kernel to use updated packages.\n"
     ]
    },
    {
     "ename": "NameError",
     "evalue": "name 'togeojsontiles' is not defined",
     "output_type": "error",
     "traceback": [
      "\u001b[1;31m---------------------------------------------------------------------------\u001b[0m",
      "\u001b[1;31mNameError\u001b[0m                                 Traceback (most recent call last)",
      "Cell \u001b[1;32mIn[12], line 11\u001b[0m\n\u001b[0;32m      8\u001b[0m TIPPECANOE_DIR \u001b[38;5;241m=\u001b[39m \u001b[38;5;124m'\u001b[39m\u001b[38;5;124m/usr/local/bin/\u001b[39m\u001b[38;5;124m'\u001b[39m\n\u001b[0;32m     10\u001b[0m \u001b[38;5;66;03m# Convert GeoJSON to .mbtiles\u001b[39;00m\n\u001b[1;32m---> 11\u001b[0m \u001b[43mtogeojsontiles\u001b[49m\u001b[38;5;241m.\u001b[39mgeojson_to_mbtiles(\n\u001b[0;32m     12\u001b[0m     filepaths\u001b[38;5;241m=\u001b[39m[\u001b[38;5;124m'\u001b[39m\u001b[38;5;124m../data/buildings_liverpool.geojson\u001b[39m\u001b[38;5;124m'\u001b[39m],\n\u001b[0;32m     13\u001b[0m     tippecanoe_dir\u001b[38;5;241m=\u001b[39mTIPPECANOE_DIR,\n\u001b[0;32m     14\u001b[0m     mbtiles_file\u001b[38;5;241m=\u001b[39m\u001b[38;5;124m'\u001b[39m\u001b[38;5;124mliverpool.mbtiles\u001b[39m\u001b[38;5;124m'\u001b[39m,\n\u001b[0;32m     15\u001b[0m     maxzoom\u001b[38;5;241m=\u001b[39m\u001b[38;5;241m14\u001b[39m)\n",
      "\u001b[1;31mNameError\u001b[0m: name 'togeojsontiles' is not defined"
     ]
    }
   ],
   "source": [
    "# pip install togeojsontiles\n",
    "%pip install togeojsontiles\n",
    "\n",
    "\n",
    "from togeojsontiles import geojson_to_mbtiles\n",
    "\n",
    "# 操了, 这个B tippcanoe只能在linux上运行\n",
    "TIPPECANOE_DIR = '/usr/local/bin/'\n",
    "\n",
    "# Convert GeoJSON to .mbtiles\n",
    "togeojsontiles.geojson_to_mbtiles(\n",
    "    filepaths=['../data/buildings_liverpool.geojson'],\n",
    "    tippecanoe_dir=TIPPECANOE_DIR,\n",
    "    mbtiles_file='liverpool.mbtiles',\n",
    "    maxzoom=14)"
   ]
  },
  {
   "cell_type": "markdown",
   "id": "749ddeeb-d93c-4ee5-9122-623954882ff7",
   "metadata": {},
   "source": [
    "You can also try **uploading** it directly to Mapbox. This part of the code has not been tested so it should serve as guidance."
   ]
  },
  {
   "cell_type": "code",
   "execution_count": 13,
   "id": "8cf70aa2",
   "metadata": {},
   "outputs": [
    {
     "ename": "FileNotFoundError",
     "evalue": "[Errno 2] No such file or directory: '../data/liverpool.mbtiles'",
     "output_type": "error",
     "traceback": [
      "\u001b[1;31m---------------------------------------------------------------------------\u001b[0m",
      "\u001b[1;31mFileNotFoundError\u001b[0m                         Traceback (most recent call last)",
      "Cell \u001b[1;32mIn[13], line 22\u001b[0m\n\u001b[0;32m     16\u001b[0m headers \u001b[38;5;241m=\u001b[39m {\n\u001b[0;32m     17\u001b[0m     \u001b[38;5;124m'\u001b[39m\u001b[38;5;124mAuthorization\u001b[39m\u001b[38;5;124m'\u001b[39m: \u001b[38;5;124mf\u001b[39m\u001b[38;5;124m'\u001b[39m\u001b[38;5;124mBearer \u001b[39m\u001b[38;5;132;01m{\u001b[39;00mmapbox_token\u001b[38;5;132;01m}\u001b[39;00m\u001b[38;5;124m'\u001b[39m,\n\u001b[0;32m     18\u001b[0m     \u001b[38;5;124m'\u001b[39m\u001b[38;5;124mContent-Type\u001b[39m\u001b[38;5;124m'\u001b[39m: \u001b[38;5;124m'\u001b[39m\u001b[38;5;124mapplication/json\u001b[39m\u001b[38;5;124m'\u001b[39m\n\u001b[0;32m     19\u001b[0m }\n\u001b[0;32m     21\u001b[0m \u001b[38;5;66;03m# Prepare the data for the POST request\u001b[39;00m\n\u001b[1;32m---> 22\u001b[0m \u001b[38;5;28;01mwith\u001b[39;00m \u001b[38;5;28;43mopen\u001b[39;49m\u001b[43m(\u001b[49m\u001b[43mmbtiles_file_path\u001b[49m\u001b[43m,\u001b[49m\u001b[43m \u001b[49m\u001b[38;5;124;43m'\u001b[39;49m\u001b[38;5;124;43mrb\u001b[39;49m\u001b[38;5;124;43m'\u001b[39;49m\u001b[43m)\u001b[49m \u001b[38;5;28;01mas\u001b[39;00m file:\n\u001b[0;32m     23\u001b[0m     files \u001b[38;5;241m=\u001b[39m {\u001b[38;5;124m'\u001b[39m\u001b[38;5;124mfile\u001b[39m\u001b[38;5;124m'\u001b[39m: file}\n\u001b[0;32m     24\u001b[0m     response \u001b[38;5;241m=\u001b[39m requests\u001b[38;5;241m.\u001b[39mpost(url, headers\u001b[38;5;241m=\u001b[39mheaders, files\u001b[38;5;241m=\u001b[39mfiles)\n",
      "File \u001b[1;32mc:\\Users\\isrya\\.conda\\envs\\ENVS456\\Lib\\site-packages\\IPython\\core\\interactiveshell.py:310\u001b[0m, in \u001b[0;36m_modified_open\u001b[1;34m(file, *args, **kwargs)\u001b[0m\n\u001b[0;32m    303\u001b[0m \u001b[38;5;28;01mif\u001b[39;00m file \u001b[38;5;129;01min\u001b[39;00m {\u001b[38;5;241m0\u001b[39m, \u001b[38;5;241m1\u001b[39m, \u001b[38;5;241m2\u001b[39m}:\n\u001b[0;32m    304\u001b[0m     \u001b[38;5;28;01mraise\u001b[39;00m \u001b[38;5;167;01mValueError\u001b[39;00m(\n\u001b[0;32m    305\u001b[0m         \u001b[38;5;124mf\u001b[39m\u001b[38;5;124m\"\u001b[39m\u001b[38;5;124mIPython won\u001b[39m\u001b[38;5;124m'\u001b[39m\u001b[38;5;124mt let you open fd=\u001b[39m\u001b[38;5;132;01m{\u001b[39;00mfile\u001b[38;5;132;01m}\u001b[39;00m\u001b[38;5;124m by default \u001b[39m\u001b[38;5;124m\"\u001b[39m\n\u001b[0;32m    306\u001b[0m         \u001b[38;5;124m\"\u001b[39m\u001b[38;5;124mas it is likely to crash IPython. If you know what you are doing, \u001b[39m\u001b[38;5;124m\"\u001b[39m\n\u001b[0;32m    307\u001b[0m         \u001b[38;5;124m\"\u001b[39m\u001b[38;5;124myou can use builtins\u001b[39m\u001b[38;5;124m'\u001b[39m\u001b[38;5;124m open.\u001b[39m\u001b[38;5;124m\"\u001b[39m\n\u001b[0;32m    308\u001b[0m     )\n\u001b[1;32m--> 310\u001b[0m \u001b[38;5;28;01mreturn\u001b[39;00m \u001b[43mio_open\u001b[49m\u001b[43m(\u001b[49m\u001b[43mfile\u001b[49m\u001b[43m,\u001b[49m\u001b[43m \u001b[49m\u001b[38;5;241;43m*\u001b[39;49m\u001b[43margs\u001b[49m\u001b[43m,\u001b[49m\u001b[43m \u001b[49m\u001b[38;5;241;43m*\u001b[39;49m\u001b[38;5;241;43m*\u001b[39;49m\u001b[43mkwargs\u001b[49m\u001b[43m)\u001b[49m\n",
      "\u001b[1;31mFileNotFoundError\u001b[0m: [Errno 2] No such file or directory: '../data/liverpool.mbtiles'"
     ]
    }
   ],
   "source": [
    "import requests\n",
    "import os\n",
    "\n",
    "# Define your Mapbox token\n",
    "# public token: pk.eyJ1IjoieW9uZ2hlbmciLCJhIjoiY2x0NXFkYW56MDNkdTJtbXY0OWtobGVnMCJ9.7eqyKK-FF_kx9xe_cr1EKA\n",
    "# envs456 token: sk.eyJ1IjoieW9uZ2hlbmciLCJhIjoiY2x0NXFtaDN4MDAwbzJqbXRwNXJtMndlOSJ9.DYNnhoetg-nGOmpThlg4jg\n",
    "mapbox_token = \"sk.eyJ1IjoieW9uZ2hlbmciLCJhIjoiY2x0NXFtaDN4MDAwbzJqbXRwNXJtMndlOSJ9.DYNnhoetg-nGOmpThlg4jg\"\n",
    "\n",
    "# Endpoint for Mapbox Tiling Service uploads\n",
    "url = 'https://api.mapbox.com/uploads/v1/mapbox'\n",
    "\n",
    "# Path to your .mbtiles file\n",
    "mbtiles_file_path = '../data/liverpool.mbtiles'\n",
    "\n",
    "# Prepare the headers\n",
    "headers = {\n",
    "    'Authorization': f'Bearer {mapbox_token}',\n",
    "    'Content-Type': 'application/json'\n",
    "}\n",
    "\n",
    "# Prepare the data for the POST request\n",
    "with open(mbtiles_file_path, 'rb') as file:\n",
    "    files = {'file': file}\n",
    "    response = requests.post(url, headers=headers, files=files)\n",
    "\n",
    "# Check the response\n",
    "if response.status_code == 200:\n",
    "    print(\"Upload initiated successfully.\")\n",
    "    print(response.json())\n",
    "else:\n",
    "    print(\"Failed to initiate upload.\")\n",
    "    print(response.text)"
   ]
  },
  {
   "cell_type": "markdown",
   "id": "4e404bd1-5b59-46d6-9ec6-4a85e23c649a",
   "metadata": {},
   "source": [
    "***The optional steps end here***"
   ]
  },
  {
   "cell_type": "markdown",
   "id": "7db1fb30",
   "metadata": {},
   "source": [
    "### Uploading to **Mapbox Studio**: \n",
    "\n",
    "After creating the `.mbtiles` file, you can upload it *manually* to Mapbox Studio (unless you managed to make the cell above work):\n",
    "\n",
    "- Navigate to Mapbox Studio.\n",
    "- Start a New Style and chose a template (Monochrome, blank etc.)\n",
    "  \n",
    "<img src=\"../labs_img/mapboxstyles.png\" width=\"80%\">\n",
    "\n",
    "- Upload the `liverpool.mbtiles` (if you created it) or the `liverpool.geojson`. Press the **+** symbol, `Custom Layer` or `Data Visualisation`, `Upload Data`, and choose your file\n",
    "  \n",
    "<img src=\"../labs_img/mapbox_upload.png\" width=\"80%\">\n",
    "\n",
    "- Once uploaded, you should see your layer in the existing sources. \n",
    "\n",
    "<img src=\"../labs_img/mapbox_select.png\" width=\"80%\">\n",
    "\n",
    "- Style it according to your requirements: It should look like a nicer version of this:\n",
    "  \n",
    "<img src=\"../labs_img/mapbox_building_studio.png\" width=\"80%\">\n",
    "\n",
    "Or through *scripting* with Mapbox's Uploads API (see above)"
   ]
  },
  {
   "cell_type": "markdown",
   "id": "eff83c4d",
   "metadata": {},
   "source": [
    "### Visualizing the Tiles with `Folium`:"
   ]
  },
  {
   "cell_type": "markdown",
   "id": "8140ccb0-0a96-4f88-b810-138b68bdfdb6",
   "metadata": {},
   "source": [
    "First, we need to get the `id` of your Mapbox style by copying its url:\n",
    "\n",
    "<img src=\"../labs_img/mapbox_styleid.png\" width=\"80%\">"
   ]
  },
  {
   "cell_type": "markdown",
   "id": "dbf7f154-86bb-4621-8357-b2ca23066066",
   "metadata": {},
   "source": [
    "*url example*: [mapbox://styles/gabrif/clrpby9lc00a501pecacz8b7h](mapbox://styles/gabrif/clrpby9lc00a501pecacz8b7h)\n",
    "\n",
    "the `style_id` is the last section of the URL, in this case `clrpby9lc00a501pecacz8b7h`\n",
    "\n",
    "Then, we can use `folium`, which we will more in detail later on, and use our tileset. Folium essentially allows us to create interactive maps, usually starting from data stored in a `GeoDataFrame`. While folium provides a series of built-in tilesets, here it is demonstrated how to employ one's own."
   ]
  },
  {
   "cell_type": "code",
   "execution_count": 14,
   "id": "945526c5",
   "metadata": {},
   "outputs": [
    {
     "data": {
      "text/html": [
       "<div style=\"width:100%;\"><div style=\"position:relative;width:100%;height:0;padding-bottom:60%;\"><span style=\"color:#565656\">Make this Notebook Trusted to load map: File -> Trust Notebook</span><iframe srcdoc=\"&lt;!DOCTYPE html&gt;\n",
       "&lt;html&gt;\n",
       "&lt;head&gt;\n",
       "    \n",
       "    &lt;meta http-equiv=&quot;content-type&quot; content=&quot;text/html; charset=UTF-8&quot; /&gt;\n",
       "    \n",
       "        &lt;script&gt;\n",
       "            L_NO_TOUCH = false;\n",
       "            L_DISABLE_3D = false;\n",
       "        &lt;/script&gt;\n",
       "    \n",
       "    &lt;style&gt;html, body {width: 100%;height: 100%;margin: 0;padding: 0;}&lt;/style&gt;\n",
       "    &lt;style&gt;#map {position:absolute;top:0;bottom:0;right:0;left:0;}&lt;/style&gt;\n",
       "    &lt;script src=&quot;https://cdn.jsdelivr.net/npm/leaflet@1.9.3/dist/leaflet.js&quot;&gt;&lt;/script&gt;\n",
       "    &lt;script src=&quot;https://code.jquery.com/jquery-3.7.1.min.js&quot;&gt;&lt;/script&gt;\n",
       "    &lt;script src=&quot;https://cdn.jsdelivr.net/npm/bootstrap@5.2.2/dist/js/bootstrap.bundle.min.js&quot;&gt;&lt;/script&gt;\n",
       "    &lt;script src=&quot;https://cdnjs.cloudflare.com/ajax/libs/Leaflet.awesome-markers/2.0.2/leaflet.awesome-markers.js&quot;&gt;&lt;/script&gt;\n",
       "    &lt;link rel=&quot;stylesheet&quot; href=&quot;https://cdn.jsdelivr.net/npm/leaflet@1.9.3/dist/leaflet.css&quot;/&gt;\n",
       "    &lt;link rel=&quot;stylesheet&quot; href=&quot;https://cdn.jsdelivr.net/npm/bootstrap@5.2.2/dist/css/bootstrap.min.css&quot;/&gt;\n",
       "    &lt;link rel=&quot;stylesheet&quot; href=&quot;https://netdna.bootstrapcdn.com/bootstrap/3.0.0/css/bootstrap.min.css&quot;/&gt;\n",
       "    &lt;link rel=&quot;stylesheet&quot; href=&quot;https://cdn.jsdelivr.net/npm/@fortawesome/fontawesome-free@6.2.0/css/all.min.css&quot;/&gt;\n",
       "    &lt;link rel=&quot;stylesheet&quot; href=&quot;https://cdnjs.cloudflare.com/ajax/libs/Leaflet.awesome-markers/2.0.2/leaflet.awesome-markers.css&quot;/&gt;\n",
       "    &lt;link rel=&quot;stylesheet&quot; href=&quot;https://cdn.jsdelivr.net/gh/python-visualization/folium/folium/templates/leaflet.awesome.rotate.min.css&quot;/&gt;\n",
       "    \n",
       "            &lt;meta name=&quot;viewport&quot; content=&quot;width=device-width,\n",
       "                initial-scale=1.0, maximum-scale=1.0, user-scalable=no&quot; /&gt;\n",
       "            &lt;style&gt;\n",
       "                #map_9069766c5bb2958f9fed1c9a2216ebea {\n",
       "                    position: relative;\n",
       "                    width: 100.0%;\n",
       "                    height: 100.0%;\n",
       "                    left: 0.0%;\n",
       "                    top: 0.0%;\n",
       "                }\n",
       "                .leaflet-container { font-size: 1rem; }\n",
       "            &lt;/style&gt;\n",
       "        \n",
       "&lt;/head&gt;\n",
       "&lt;body&gt;\n",
       "    \n",
       "    \n",
       "            &lt;div class=&quot;folium-map&quot; id=&quot;map_9069766c5bb2958f9fed1c9a2216ebea&quot; &gt;&lt;/div&gt;\n",
       "        \n",
       "&lt;/body&gt;\n",
       "&lt;script&gt;\n",
       "    \n",
       "    \n",
       "            var map_9069766c5bb2958f9fed1c9a2216ebea = L.map(\n",
       "                &quot;map_9069766c5bb2958f9fed1c9a2216ebea&quot;,\n",
       "                {\n",
       "                    center: [53.406872, -2.973286],\n",
       "                    crs: L.CRS.EPSG3857,\n",
       "                    zoom: 14,\n",
       "                    zoomControl: true,\n",
       "                    preferCanvas: false,\n",
       "                }\n",
       "            );\n",
       "\n",
       "            \n",
       "\n",
       "        \n",
       "    \n",
       "            var tile_layer_63b528fb236d9c6bfba7436a030304a9 = L.tileLayer(\n",
       "                &quot;https://api.mapbox.com/styles/v1/gabrif/clrpby9lc00a501pecacz8b7h/tiles/256/{z}/{x}/{y}?access_token=&quot;,\n",
       "                {&quot;attribution&quot;: &quot;Mapbox&quot;, &quot;detectRetina&quot;: false, &quot;maxNativeZoom&quot;: 18, &quot;maxZoom&quot;: 18, &quot;minZoom&quot;: 0, &quot;noWrap&quot;: false, &quot;opacity&quot;: 1, &quot;subdomains&quot;: &quot;abc&quot;, &quot;tms&quot;: false}\n",
       "            );\n",
       "        \n",
       "    \n",
       "            tile_layer_63b528fb236d9c6bfba7436a030304a9.addTo(map_9069766c5bb2958f9fed1c9a2216ebea);\n",
       "        \n",
       "&lt;/script&gt;\n",
       "&lt;/html&gt;\" style=\"position:absolute;width:100%;height:100%;left:0;top:0;border:none !important;\" allowfullscreen webkitallowfullscreen mozallowfullscreen></iframe></div></div>"
      ],
      "text/plain": [
       "<folium.folium.Map at 0x26a5a95bc90>"
      ]
     },
     "execution_count": 14,
     "metadata": {},
     "output_type": "execute_result"
    }
   ],
   "source": [
    "# Create a Folium map centered at a specific location\n",
    "import folium\n",
    "\n",
    "mapbox_user = 'gabrif'\n",
    "mapbox_token = ''\n",
    "style_id = 'clrpby9lc00a501pecacz8b7h' \n",
    "\n",
    "tiles = 'https://api.mapbox.com/styles/v1/'+mapbox_user+'/'+style_id+'/tiles/256/{z}/{x}/{y}?access_token='+mapbox_token\n",
    "map = folium.Map(location=[53.406872, -2.973286], zoom_start=14,\n",
    "               tiles=tiles,\n",
    "               attr='Mapbox')\n",
    "\n",
    "# Display the map\n",
    "map"
   ]
  }
 ],
 "metadata": {
  "kernelspec": {
   "display_name": "Python 3 (ipykernel)",
   "language": "python",
   "name": "python3"
  },
  "language_info": {
   "codemirror_mode": {
    "name": "ipython",
    "version": 3
   },
   "file_extension": ".py",
   "mimetype": "text/x-python",
   "name": "python",
   "nbconvert_exporter": "python",
   "pygments_lexer": "ipython3",
   "version": "3.11.8"
  }
 },
 "nbformat": 4,
 "nbformat_minor": 5
}
