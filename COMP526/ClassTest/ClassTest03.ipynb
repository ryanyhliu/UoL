{
 "cells": [
  {
   "cell_type": "code",
   "execution_count": 2,
   "metadata": {},
   "outputs": [
    {
     "name": "stdout",
     "output_type": "stream",
     "text": [
      "[0, 0, 1, 0, 1, 2, 3, 4, 5, 6, 0, 0, 0, 0, 0, 0]\n"
     ]
    }
   ],
   "source": [
    "def fail_link_array(p):\n",
    "    n = len(p)\n",
    "    f = [0] * n\n",
    "    for i in range(1, n):\n",
    "        for j in range(i, -1, -1):\n",
    "            if p[0 : j] == p[i - j + 1 : i + 1]:\n",
    "                f[i] = j\n",
    "                break\n",
    "    f.insert(0,0)\n",
    "    return f\n",
    "\n",
    "p = \"bbcbbcbbcccaacc\"\n",
    "print(fail_link_array(p))"
   ]
  },
  {
   "cell_type": "code",
   "execution_count": null,
   "metadata": {},
   "outputs": [],
   "source": []
  }
 ],
 "metadata": {
  "kernelspec": {
   "display_name": "Python 3",
   "language": "python",
   "name": "python3"
  },
  "language_info": {
   "codemirror_mode": {
    "name": "ipython",
    "version": 3
   },
   "file_extension": ".py",
   "mimetype": "text/x-python",
   "name": "python",
   "nbconvert_exporter": "python",
   "pygments_lexer": "ipython3",
   "version": "3.10.11"
  }
 },
 "nbformat": 4,
 "nbformat_minor": 2
}
